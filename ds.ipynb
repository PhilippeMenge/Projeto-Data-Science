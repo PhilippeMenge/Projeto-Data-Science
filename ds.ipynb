{
 "cells": [
  {
   "cell_type": "markdown",
   "metadata": {},
   "source": [
    "\n",
    "## Projeto data science\n",
    "#### Análise de dados Premier League 2023-24\n",
    "#### Dupla: Henrique Melo (hcm) e Philippe Menge (pmal)\n",
    "\n"
   ]
  },
  {
   "cell_type": "markdown",
   "metadata": {},
   "source": [
    "Definição do dataset"
   ]
  },
  {
   "cell_type": "code",
   "execution_count": 12,
   "metadata": {},
   "outputs": [
    {
     "name": "stdout",
     "output_type": "stream",
     "text": [
      "Requirement already satisfied: scikit-learn in c:\\users\\henri\\appdata\\local\\programs\\python\\python312\\lib\\site-packages (1.5.0)\n",
      "Requirement already satisfied: numpy>=1.19.5 in c:\\users\\henri\\appdata\\local\\programs\\python\\python312\\lib\\site-packages (from scikit-learn) (1.26.4)\n",
      "Requirement already satisfied: scipy>=1.6.0 in c:\\users\\henri\\appdata\\local\\programs\\python\\python312\\lib\\site-packages (from scikit-learn) (1.12.0)\n",
      "Requirement already satisfied: joblib>=1.2.0 in c:\\users\\henri\\appdata\\local\\programs\\python\\python312\\lib\\site-packages (from scikit-learn) (1.4.2)\n",
      "Requirement already satisfied: threadpoolctl>=3.1.0 in c:\\users\\henri\\appdata\\local\\programs\\python\\python312\\lib\\site-packages (from scikit-learn) (3.5.0)\n",
      "Note: you may need to restart the kernel to use updated packages.\n"
     ]
    },
    {
     "name": "stderr",
     "output_type": "stream",
     "text": [
      "\n",
      "[notice] A new release of pip is available: 23.2.1 -> 24.0\n",
      "[notice] To update, run: python.exe -m pip install --upgrade pip\n"
     ]
    }
   ],
   "source": []
  },
  {
   "cell_type": "code",
   "execution_count": 13,
   "metadata": {},
   "outputs": [],
   "source": [
    "import pandas as pd\n",
    "import numpy as np\n",
    "import matplotlib.pyplot as plt\n",
    "\n"
   ]
  },
  {
   "cell_type": "code",
   "execution_count": 14,
   "metadata": {},
   "outputs": [],
   "source": [
    "df = pd.read_csv('PL23.csv')"
   ]
  },
  {
   "cell_type": "code",
   "execution_count": 15,
   "metadata": {},
   "outputs": [
    {
     "name": "stdout",
     "output_type": "stream",
     "text": [
      "<class 'pandas.core.frame.DataFrame'>\n",
      "RangeIndex: 380 entries, 0 to 379\n",
      "Columns: 106 entries, Div to AvgCAHA\n",
      "dtypes: float64(82), int64(16), object(8)\n",
      "memory usage: 314.8+ KB\n"
     ]
    }
   ],
   "source": [
    "df.head()\n",
    "df.info()"
   ]
  },
  {
   "cell_type": "markdown",
   "metadata": {},
   "source": [
    "# Pré-processamento dos dados"
   ]
  },
  {
   "cell_type": "markdown",
   "metadata": {},
   "source": [
    "Removemos todas as colunas relacionadas a apostas menos as médias, máximos e mínimos. \n",
    "Removemos também relacionadas a divisão da partida, data e hora."
   ]
  },
  {
   "cell_type": "code",
   "execution_count": 16,
   "metadata": {},
   "outputs": [
    {
     "data": {
      "text/html": [
       "<div>\n",
       "<style scoped>\n",
       "    .dataframe tbody tr th:only-of-type {\n",
       "        vertical-align: middle;\n",
       "    }\n",
       "\n",
       "    .dataframe tbody tr th {\n",
       "        vertical-align: top;\n",
       "    }\n",
       "\n",
       "    .dataframe thead th {\n",
       "        text-align: right;\n",
       "    }\n",
       "</style>\n",
       "<table border=\"1\" class=\"dataframe\">\n",
       "  <thead>\n",
       "    <tr style=\"text-align: right;\">\n",
       "      <th></th>\n",
       "      <th>HomeTeam</th>\n",
       "      <th>AwayTeam</th>\n",
       "      <th>FTHG</th>\n",
       "      <th>FTAG</th>\n",
       "      <th>FTR</th>\n",
       "      <th>HTHG</th>\n",
       "      <th>HTAG</th>\n",
       "      <th>HTR</th>\n",
       "      <th>HS</th>\n",
       "      <th>AS</th>\n",
       "      <th>...</th>\n",
       "      <th>HY</th>\n",
       "      <th>AY</th>\n",
       "      <th>HR</th>\n",
       "      <th>AR</th>\n",
       "      <th>MaxH</th>\n",
       "      <th>MaxD</th>\n",
       "      <th>MaxA</th>\n",
       "      <th>AvgH</th>\n",
       "      <th>AvgD</th>\n",
       "      <th>AvgA</th>\n",
       "    </tr>\n",
       "  </thead>\n",
       "  <tbody>\n",
       "    <tr>\n",
       "      <th>0</th>\n",
       "      <td>Burnley</td>\n",
       "      <td>Man City</td>\n",
       "      <td>0</td>\n",
       "      <td>3</td>\n",
       "      <td>A</td>\n",
       "      <td>0</td>\n",
       "      <td>2</td>\n",
       "      <td>A</td>\n",
       "      <td>6</td>\n",
       "      <td>17</td>\n",
       "      <td>...</td>\n",
       "      <td>0</td>\n",
       "      <td>0</td>\n",
       "      <td>1</td>\n",
       "      <td>0</td>\n",
       "      <td>9.50</td>\n",
       "      <td>5.68</td>\n",
       "      <td>1.39</td>\n",
       "      <td>9.02</td>\n",
       "      <td>5.35</td>\n",
       "      <td>1.35</td>\n",
       "    </tr>\n",
       "    <tr>\n",
       "      <th>1</th>\n",
       "      <td>Arsenal</td>\n",
       "      <td>Nott'm Forest</td>\n",
       "      <td>2</td>\n",
       "      <td>1</td>\n",
       "      <td>H</td>\n",
       "      <td>2</td>\n",
       "      <td>0</td>\n",
       "      <td>H</td>\n",
       "      <td>15</td>\n",
       "      <td>6</td>\n",
       "      <td>...</td>\n",
       "      <td>2</td>\n",
       "      <td>2</td>\n",
       "      <td>0</td>\n",
       "      <td>0</td>\n",
       "      <td>1.21</td>\n",
       "      <td>8.50</td>\n",
       "      <td>17.50</td>\n",
       "      <td>1.18</td>\n",
       "      <td>7.64</td>\n",
       "      <td>15.67</td>\n",
       "    </tr>\n",
       "    <tr>\n",
       "      <th>2</th>\n",
       "      <td>Bournemouth</td>\n",
       "      <td>West Ham</td>\n",
       "      <td>1</td>\n",
       "      <td>1</td>\n",
       "      <td>D</td>\n",
       "      <td>0</td>\n",
       "      <td>0</td>\n",
       "      <td>D</td>\n",
       "      <td>14</td>\n",
       "      <td>16</td>\n",
       "      <td>...</td>\n",
       "      <td>1</td>\n",
       "      <td>4</td>\n",
       "      <td>0</td>\n",
       "      <td>0</td>\n",
       "      <td>2.80</td>\n",
       "      <td>3.62</td>\n",
       "      <td>2.75</td>\n",
       "      <td>2.69</td>\n",
       "      <td>3.44</td>\n",
       "      <td>2.64</td>\n",
       "    </tr>\n",
       "    <tr>\n",
       "      <th>3</th>\n",
       "      <td>Brighton</td>\n",
       "      <td>Luton</td>\n",
       "      <td>4</td>\n",
       "      <td>1</td>\n",
       "      <td>H</td>\n",
       "      <td>1</td>\n",
       "      <td>0</td>\n",
       "      <td>H</td>\n",
       "      <td>27</td>\n",
       "      <td>9</td>\n",
       "      <td>...</td>\n",
       "      <td>2</td>\n",
       "      <td>2</td>\n",
       "      <td>0</td>\n",
       "      <td>0</td>\n",
       "      <td>1.36</td>\n",
       "      <td>6.00</td>\n",
       "      <td>10.50</td>\n",
       "      <td>1.33</td>\n",
       "      <td>5.52</td>\n",
       "      <td>9.61</td>\n",
       "    </tr>\n",
       "    <tr>\n",
       "      <th>4</th>\n",
       "      <td>Everton</td>\n",
       "      <td>Fulham</td>\n",
       "      <td>0</td>\n",
       "      <td>1</td>\n",
       "      <td>A</td>\n",
       "      <td>0</td>\n",
       "      <td>0</td>\n",
       "      <td>D</td>\n",
       "      <td>19</td>\n",
       "      <td>9</td>\n",
       "      <td>...</td>\n",
       "      <td>0</td>\n",
       "      <td>2</td>\n",
       "      <td>0</td>\n",
       "      <td>0</td>\n",
       "      <td>2.30</td>\n",
       "      <td>3.57</td>\n",
       "      <td>3.45</td>\n",
       "      <td>2.24</td>\n",
       "      <td>3.43</td>\n",
       "      <td>3.30</td>\n",
       "    </tr>\n",
       "  </tbody>\n",
       "</table>\n",
       "<p>5 rows × 26 columns</p>\n",
       "</div>"
      ],
      "text/plain": [
       "      HomeTeam       AwayTeam  FTHG  FTAG FTR  HTHG  HTAG HTR  HS  AS  ...  \\\n",
       "0      Burnley       Man City     0     3   A     0     2   A   6  17  ...   \n",
       "1      Arsenal  Nott'm Forest     2     1   H     2     0   H  15   6  ...   \n",
       "2  Bournemouth       West Ham     1     1   D     0     0   D  14  16  ...   \n",
       "3     Brighton          Luton     4     1   H     1     0   H  27   9  ...   \n",
       "4      Everton         Fulham     0     1   A     0     0   D  19   9  ...   \n",
       "\n",
       "   HY  AY  HR  AR  MaxH  MaxD   MaxA  AvgH  AvgD   AvgA  \n",
       "0   0   0   1   0  9.50  5.68   1.39  9.02  5.35   1.35  \n",
       "1   2   2   0   0  1.21  8.50  17.50  1.18  7.64  15.67  \n",
       "2   1   4   0   0  2.80  3.62   2.75  2.69  3.44   2.64  \n",
       "3   2   2   0   0  1.36  6.00  10.50  1.33  5.52   9.61  \n",
       "4   0   2   0   0  2.30  3.57   3.45  2.24  3.43   3.30  \n",
       "\n",
       "[5 rows x 26 columns]"
      ]
     },
     "execution_count": 16,
     "metadata": {},
     "output_type": "execute_result"
    }
   ],
   "source": [
    "\n",
    "unused_columns = ['Div','Date','Time','Referee','B365>2.5','B365<2.5','P>2.5', 'P<2.5', 'Max>2.5', 'Max<2.5', 'Avg>2.5', 'Avg<2.5', 'AHh', 'B365AHH', 'B365AHA', 'PAHH', 'PAHA', 'MaxAHH', 'MaxAHA', 'AvgAHH', 'AvgAHA', 'B365CH', 'B365CD', 'B365CA', 'BWCH', 'BWCD', 'BWCA', 'IWCH', 'IWCD', 'IWCA', 'PSCH', 'PSCD', 'PSCA', 'WHCH', 'WHCD', 'WHCA', 'VCCH', 'VCCD', 'VCCA', 'MaxCH', 'MaxCD', 'MaxCA', 'AvgCH', 'AvgCD', 'AvgCA', 'B365C>2.5', 'B365C<2.5', 'PC>2.5', 'PC<2.5', 'MaxC>2.5', 'MaxC<2.5', 'AvgC>2.5', 'AvgC<2.5', 'AHCh', 'B365CAHH', 'B365CAHA', 'PCAHH', 'PCAHA', 'MaxCAHH', 'MaxCAHA', 'AvgCAHH', 'AvgCAHA','B365H','B365D','B365A', 'BWH','BWD','BWA','IWH','IWD','IWA','PSH','PSD','PSA','WHH','WHD','WHA','VCH','VCD','VCA']\n",
    "df.drop(unused_columns, axis=1, inplace=True)\n",
    "df.head()\n"
   ]
  },
  {
   "cell_type": "markdown",
   "metadata": {},
   "source": [
    "Tratamentos de dados ausentes"
   ]
  },
  {
   "cell_type": "code",
   "execution_count": 17,
   "metadata": {},
   "outputs": [
    {
     "data": {
      "text/plain": [
       "False"
      ]
     },
     "execution_count": 17,
     "metadata": {},
     "output_type": "execute_result"
    }
   ],
   "source": [
    "df.isnull().values.any()\n"
   ]
  },
  {
   "cell_type": "markdown",
   "metadata": {},
   "source": [
    "Definição dos tipos dos dados."
   ]
  },
  {
   "cell_type": "code",
   "execution_count": 18,
   "metadata": {},
   "outputs": [
    {
     "name": "stdout",
     "output_type": "stream",
     "text": [
      "HomeTeam     object\n",
      "AwayTeam     object\n",
      "FTHG          int64\n",
      "FTAG          int64\n",
      "FTR          object\n",
      "HTHG          int64\n",
      "HTAG          int64\n",
      "HTR          object\n",
      "HS            int64\n",
      "AS            int64\n",
      "HST           int64\n",
      "AST           int64\n",
      "HF            int64\n",
      "AF            int64\n",
      "HC            int64\n",
      "AC            int64\n",
      "HY            int64\n",
      "AY            int64\n",
      "HR            int64\n",
      "AR            int64\n",
      "MaxH        float64\n",
      "MaxD        float64\n",
      "MaxA        float64\n",
      "AvgH        float64\n",
      "AvgD        float64\n",
      "AvgA        float64\n",
      "dtype: object\n"
     ]
    }
   ],
   "source": [
    "print(df.dtypes)"
   ]
  },
  {
   "cell_type": "markdown",
   "metadata": {},
   "source": []
  },
  {
   "cell_type": "markdown",
   "metadata": {},
   "source": [
    "# Normalização"
   ]
  },
  {
   "cell_type": "code",
   "execution_count": 29,
   "metadata": {},
   "outputs": [],
   "source": [
    "from sklearn.preprocessing import MinMaxScaler\n",
    "\n",
    "scaler = MinMaxScaler(feature_range=(0, 1))\n",
    "df['AvgH_normalized'] = scaler.fit_transform(df[['AvgH']])\n",
    "df['AvgA_normalized'] = scaler.fit_transform(df[['AvgA']])\n",
    "df['AvgD_normalized'] = scaler.fit_transform(df[['AvgD']])"
   ]
  },
  {
   "cell_type": "markdown",
   "metadata": {},
   "source": [
    "# Limpeza de dados\n",
    "Univariado"
   ]
  },
  {
   "cell_type": "code",
   "execution_count": 33,
   "metadata": {},
   "outputs": [
    {
     "data": {
      "text/plain": [
       "count    380.000000\n",
       "mean       2.953737\n",
       "std        2.337089\n",
       "min        1.080000\n",
       "25%        1.640000\n",
       "50%        2.205000\n",
       "75%        3.300000\n",
       "max       18.020000\n",
       "Name: AvgH, dtype: float64"
      ]
     },
     "execution_count": 33,
     "metadata": {},
     "output_type": "execute_result"
    }
   ],
   "source": [
    "df['AvgH'].describe()\n"
   ]
  },
  {
   "cell_type": "code",
   "execution_count": 34,
   "metadata": {},
   "outputs": [
    {
     "data": {
      "text/plain": [
       "count    380.000000\n",
       "mean       0.110610\n",
       "std        0.137963\n",
       "min        0.000000\n",
       "25%        0.033058\n",
       "50%        0.066411\n",
       "75%        0.131051\n",
       "max        1.000000\n",
       "Name: AvgH_normalized, dtype: float64"
      ]
     },
     "execution_count": 34,
     "metadata": {},
     "output_type": "execute_result"
    }
   ],
   "source": [
    "df['AvgH_normalized'].describe()"
   ]
  },
  {
   "cell_type": "code",
   "execution_count": 26,
   "metadata": {},
   "outputs": [
    {
     "data": {
      "text/plain": [
       "<Axes: >"
      ]
     },
     "execution_count": 26,
     "metadata": {},
     "output_type": "execute_result"
    },
    {
     "data": {
      "image/png": "[encoded data removed]",
      "text/plain": [
       "<Figure size 640x480 with 1 Axes>"
      ]
     },
     "metadata": {},
     "output_type": "display_data"
    }
   ],
   "source": [
    "df['AvgH_normalized'].plot.box()"
   ]
  },
  {
   "cell_type": "code",
   "execution_count": 23,
   "metadata": {},
   "outputs": [
    {
     "data": {
      "text/plain": [
       "<Axes: >"
      ]
     },
     "execution_count": 23,
     "metadata": {},
     "output_type": "execute_result"
    },
    {
     "data": {
      "image/png": "[encoded data removed]",
      "text/plain": [
       "<Figure size 640x480 with 1 Axes>"
      ]
     },
     "metadata": {},
     "output_type": "display_data"
    }
   ],
   "source": [
    "df['AvgH'].hist()"
   ]
  },
  {
   "cell_type": "markdown",
   "metadata": {},
   "source": [
    "# Análises"
   ]
  },
  {
   "cell_type": "code",
   "execution_count": 25,
   "metadata": {},
   "outputs": [
    {
     "name": "stdout",
     "output_type": "stream",
     "text": [
      "Total Full Time Goals:  1246\n",
      "Total Half Time Goals:  517\n"
     ]
    }
   ],
   "source": [
    "total_FTHG = df['FTHG'].sum()\n",
    "total_FTAG = df['FTAG'].sum()\n",
    "\n",
    "total_HTHG = df['HTHG'].sum()\n",
    "total_HTAG = df['HTAG'].sum()\n",
    "\n",
    "total_FTG = total_FTHG + total_FTAG\n",
    "total_HTG = total_HTHG + total_HTAG\n",
    "\n",
    "print(\"Total Full Time Goals: \", total_FTG)\n",
    "print(\"Total Half Time Goals: \", total_HTG)\n",
    "\n"
   ]
  },
  {
   "cell_type": "code",
   "execution_count": null,
   "metadata": {},
   "outputs": [],
   "source": [
    "df['GoalDifferenceFT'] = df['FTHG'] - df['FTAG']\n",
    "df['GoalDifferenceHT'] = df['HTHG'] - df['HTAG']"
   ]
  },
  {
   "cell_type": "markdown",
   "metadata": {},
   "source": [
    "# Ideias de predições:\n",
    "Vencedor de acordo com o placar do primeiro tempo.\n",
    "Gols feitos por quantidade de chutes/chutes ao alvo.\n",
    "\n"
   ]
  },
  {
   "cell_type": "code",
   "execution_count": 5,
   "metadata": {},
   "outputs": [
    {
     "name": "stdout",
     "output_type": "stream",
     "text": [
      "A porcentagem de valores 'H' na coluna 'FTR' é de 46.05%\n",
      "A porcentagem de valores 'D' na coluna 'FTR' é de 21.58%\n",
      "A porcentagem de valores 'A' na coluna 'FTR' é de 32.37%\n"
     ]
    }
   ],
   "source": [
    "percentage_h = (df['FTR'].value_counts()['H'] / len(df['FTR'])) * 100\n",
    "print(f\"A porcentagem de valores 'H' na coluna 'FTR' é de {percentage_h:.2f}%\")\n",
    "\n",
    "percentage_d = (df['FTR'].value_counts()['D'] / len(df['FTR'])) * 100\n",
    "print(f\"A porcentagem de valores 'D' na coluna 'FTR' é de {percentage_d:.2f}%\")\n",
    "\n",
    "percentage_a = (df['FTR'].value_counts()['A'] / len(df['FTR'])) * 100\n",
    "print(f\"A porcentagem de valores 'A' na coluna 'FTR' é de {percentage_a:.2f}%\")\n",
    "\n"
   ]
  },
  {
   "cell_type": "code",
   "execution_count": 26,
   "metadata": {},
   "outputs": [
    {
     "data": {
      "image/png": "[encoded data removed]",
      "text/plain": [
       "<Figure size 640x480 with 1 Axes>"
      ]
     },
     "metadata": {},
     "output_type": "display_data"
    }
   ],
   "source": [
    "plt.bar(['Vitória Casa', 'Empate', 'Vitória Fora'], [percentage_h, percentage_d, percentage_a])\n",
    "plt.xlabel('\\nResultados')\n",
    "plt.ylabel('Porcentagem (%)')\n",
    "plt.title('Vantagem time da casa')\n",
    "plt.show()"
   ]
  },
  {
   "cell_type": "code",
   "execution_count": 27,
   "metadata": {},
   "outputs": [
    {
     "name": "stdout",
     "output_type": "stream",
     "text": [
      "O time favorito venceu 227 partidas de 380 possíveis\n"
     ]
    }
   ],
   "source": [
    "df['ExpectedResult'] = df[['B365H', 'B365D', 'B365A']].idxmin(axis=1)\n",
    "\n",
    "mapping = {'B365H': 'H', 'B365D': 'D', 'B365A': 'A'}\n",
    "df['ExpectedResult'] = df['ExpectedResult'].map(mapping)\n",
    "\n",
    "matches = (df['ExpectedResult'] == df['FTR']).sum()\n",
    "\n",
    "print(f\"O time favorito venceu {matches} partidas de {len(df)} possíveis\")"
   ]
  },
  {
   "cell_type": "code",
   "execution_count": 28,
   "metadata": {},
   "outputs": [],
   "source": [
    "def calculate_amount(row):\n",
    "    odds_mapping = {'H': 'B365H', 'A': 'B365A', 'D': 'B365D'}\n",
    "\n",
    "    if row['ExpectedResult'] == row['FTR']:\n",
    "        return row[odds_mapping[row['ExpectedResult']]]\n",
    "    else:\n",
    "        return 0\n",
    "\n"
   ]
  },
  {
   "cell_type": "code",
   "execution_count": 29,
   "metadata": {},
   "outputs": [
    {
     "data": {
      "image/png": "[encoded data removed]",
      "text/plain": [
       "<Figure size 640x480 with 1 Axes>"
      ]
     },
     "metadata": {},
     "output_type": "display_data"
    },
    {
     "name": "stdout",
     "output_type": "stream",
     "text": [
      "O usuário realizou 380 apostas.\n",
      "O usuário ganhou 7.779999999999973 reais.\n"
     ]
    }
   ],
   "source": [
    "df['amount'] = df.apply(calculate_amount, axis=1)\n",
    "\n",
    "# Calculate the cumulative sum of the amounts to get the user's balance after each match\n",
    "df['cumulative_amount'] = df['amount'].cumsum()\n",
    "\n",
    "# Plot the user's balance over time\n",
    "plt.plot(df['cumulative_amount'])\n",
    "plt.xlabel('Partidas')\n",
    "plt.ylabel('Banca')\n",
    "plt.title('Banca do usuário ao longo do tempo')\n",
    "plt.show()\n",
    "\n",
    "print(f\"O usuário realizou {len(df['cumulative_amount'])} apostas.\")\n",
    "print(f\"O usuário ganhou {df['amount'].sum()-len(df['cumulative_amount'])} reais.\")"
   ]
  }
 ],
 "metadata": {
  "kernelspec": {
   "display_name": "Python 3",
   "language": "python",
   "name": "python3"
  },
  "language_info": {
   "codemirror_mode": {
    "name": "ipython",
    "version": 3
   },
   "file_extension": ".py",
   "mimetype": "text/x-python",
   "name": "python",
   "nbconvert_exporter": "python",
   "pygments_lexer": "ipython3",
   "version": "3.12.0"
  }
 },
 "nbformat": 4,
 "nbformat_minor": 2
}
