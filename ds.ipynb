{
 "cells": [
  {
   "cell_type": "markdown",
   "metadata": {},
   "source": [
    "\n",
    "## Projeto data science\n",
    "#### Análise de dados Premier League 2023-24\n",
    "#### Dupla: Henrique Melo (hcm) e Philippe Menge (pmal)\n",
    "\n"
   ]
  },
  {
   "cell_type": "markdown",
   "metadata": {},
   "source": [
    "Definição do dataset"
   ]
  },
  {
   "cell_type": "code",
<<<<<<< HEAD
   "execution_count": 12,
=======
   "execution_count": 5,
>>>>>>> 1525110bcbbfe72ebb98f19637792897d250231d
   "metadata": {},
   "outputs": [
    {
     "name": "stdout",
     "output_type": "stream",
     "text": [
<<<<<<< HEAD
      "Requirement already satisfied: scikit-learn in c:\\users\\henri\\appdata\\local\\programs\\python\\python312\\lib\\site-packages (1.5.0)\n",
      "Requirement already satisfied: numpy>=1.19.5 in c:\\users\\henri\\appdata\\local\\programs\\python\\python312\\lib\\site-packages (from scikit-learn) (1.26.4)\n",
      "Requirement already satisfied: scipy>=1.6.0 in c:\\users\\henri\\appdata\\local\\programs\\python\\python312\\lib\\site-packages (from scikit-learn) (1.12.0)\n",
      "Requirement already satisfied: joblib>=1.2.0 in c:\\users\\henri\\appdata\\local\\programs\\python\\python312\\lib\\site-packages (from scikit-learn) (1.4.2)\n",
      "Requirement already satisfied: threadpoolctl>=3.1.0 in c:\\users\\henri\\appdata\\local\\programs\\python\\python312\\lib\\site-packages (from scikit-learn) (3.5.0)\n",
      "Note: you may need to restart the kernel to use updated packages.\n"
     ]
    },
    {
     "name": "stderr",
     "output_type": "stream",
     "text": [
      "\n",
      "[notice] A new release of pip is available: 23.2.1 -> 24.0\n",
      "[notice] To update, run: python.exe -m pip install --upgrade pip\n"
=======
      "Requirement already satisfied: pandas in /Library/Frameworks/Python.framework/Versions/3.10/lib/python3.10/site-packages (2.2.2)\n",
      "Requirement already satisfied: numpy>=1.22.4 in /Library/Frameworks/Python.framework/Versions/3.10/lib/python3.10/site-packages (from pandas) (1.26.4)\n",
      "Requirement already satisfied: python-dateutil>=2.8.2 in /Library/Frameworks/Python.framework/Versions/3.10/lib/python3.10/site-packages (from pandas) (2.8.2)\n",
      "Requirement already satisfied: pytz>=2020.1 in /Library/Frameworks/Python.framework/Versions/3.10/lib/python3.10/site-packages (from pandas) (2024.1)\n",
      "Requirement already satisfied: tzdata>=2022.7 in /Library/Frameworks/Python.framework/Versions/3.10/lib/python3.10/site-packages (from pandas) (2024.1)\n",
      "Requirement already satisfied: six>=1.5 in /Library/Frameworks/Python.framework/Versions/3.10/lib/python3.10/site-packages (from python-dateutil>=2.8.2->pandas) (1.16.0)\n",
      "Note: you may need to restart the kernel to use updated packages.\n",
      "Requirement already satisfied: matplotlib in /Library/Frameworks/Python.framework/Versions/3.10/lib/python3.10/site-packages (3.9.0)\n",
      "Requirement already satisfied: contourpy>=1.0.1 in /Library/Frameworks/Python.framework/Versions/3.10/lib/python3.10/site-packages (from matplotlib) (1.2.1)\n",
      "Requirement already satisfied: cycler>=0.10 in /Library/Frameworks/Python.framework/Versions/3.10/lib/python3.10/site-packages (from matplotlib) (0.12.1)\n",
      "Requirement already satisfied: fonttools>=4.22.0 in /Library/Frameworks/Python.framework/Versions/3.10/lib/python3.10/site-packages (from matplotlib) (4.53.0)\n",
      "Requirement already satisfied: kiwisolver>=1.3.1 in /Library/Frameworks/Python.framework/Versions/3.10/lib/python3.10/site-packages (from matplotlib) (1.4.5)\n",
      "Requirement already satisfied: numpy>=1.23 in /Library/Frameworks/Python.framework/Versions/3.10/lib/python3.10/site-packages (from matplotlib) (1.26.4)\n",
      "Requirement already satisfied: packaging>=20.0 in /Library/Frameworks/Python.framework/Versions/3.10/lib/python3.10/site-packages (from matplotlib) (21.3)\n",
      "Requirement already satisfied: pillow>=8 in /Library/Frameworks/Python.framework/Versions/3.10/lib/python3.10/site-packages (from matplotlib) (10.3.0)\n",
      "Requirement already satisfied: pyparsing>=2.3.1 in /Library/Frameworks/Python.framework/Versions/3.10/lib/python3.10/site-packages (from matplotlib) (3.0.7)\n",
      "Requirement already satisfied: python-dateutil>=2.7 in /Library/Frameworks/Python.framework/Versions/3.10/lib/python3.10/site-packages (from matplotlib) (2.8.2)\n",
      "Requirement already satisfied: six>=1.5 in /Library/Frameworks/Python.framework/Versions/3.10/lib/python3.10/site-packages (from python-dateutil>=2.7->matplotlib) (1.16.0)\n",
      "Note: you may need to restart the kernel to use updated packages.\n"
>>>>>>> 1525110bcbbfe72ebb98f19637792897d250231d
     ]
    }
   ],
   "source": []
  },
  {
   "cell_type": "code",
   "execution_count": 13,
   "metadata": {},
   "outputs": [],
   "source": [
<<<<<<< HEAD
    "import pandas as pd\n",
    "import numpy as np\n",
    "import matplotlib.pyplot as plt\n",
    "\n"
=======
    "%pip install pandas\n",
    "%pip install matplotlib"
>>>>>>> 1525110bcbbfe72ebb98f19637792897d250231d
   ]
  },
  {
   "cell_type": "code",
<<<<<<< HEAD
   "execution_count": 14,
   "metadata": {},
   "outputs": [],
   "source": [
    "df = pd.read_csv('PL23.csv')"
   ]
  },
  {
   "cell_type": "code",
   "execution_count": 15,
   "metadata": {},
   "outputs": [
    {
     "name": "stdout",
     "output_type": "stream",
     "text": [
      "<class 'pandas.core.frame.DataFrame'>\n",
      "RangeIndex: 380 entries, 0 to 379\n",
      "Columns: 106 entries, Div to AvgCAHA\n",
      "dtypes: float64(82), int64(16), object(8)\n",
      "memory usage: 314.8+ KB\n"
     ]
    }
   ],
   "source": [
    "df.head()\n",
    "df.info()"
   ]
  },
  {
   "cell_type": "markdown",
   "metadata": {},
   "source": [
    "# Pré-processamento dos dados"
   ]
  },
  {
   "cell_type": "markdown",
   "metadata": {},
   "source": [
    "Removemos todas as colunas relacionadas a apostas menos as médias, máximos e mínimos. \n",
    "Removemos também relacionadas a divisão da partida, data e hora."
   ]
  },
  {
   "cell_type": "code",
   "execution_count": 16,
=======
   "execution_count": 6,
>>>>>>> 1525110bcbbfe72ebb98f19637792897d250231d
   "metadata": {},
   "outputs": [
    {
     "data": {
      "text/html": [
       "<div>\n",
       "<style scoped>\n",
       "    .dataframe tbody tr th:only-of-type {\n",
       "        vertical-align: middle;\n",
       "    }\n",
       "\n",
       "    .dataframe tbody tr th {\n",
       "        vertical-align: top;\n",
       "    }\n",
       "\n",
       "    .dataframe thead th {\n",
       "        text-align: right;\n",
       "    }\n",
       "</style>\n",
       "<table border=\"1\" class=\"dataframe\">\n",
       "  <thead>\n",
       "    <tr style=\"text-align: right;\">\n",
       "      <th></th>\n",
       "      <th>HomeTeam</th>\n",
       "      <th>AwayTeam</th>\n",
       "      <th>FTHG</th>\n",
       "      <th>FTAG</th>\n",
       "      <th>FTR</th>\n",
       "      <th>HTHG</th>\n",
       "      <th>HTAG</th>\n",
       "      <th>HTR</th>\n",
       "      <th>HS</th>\n",
       "      <th>AS</th>\n",
       "      <th>...</th>\n",
       "      <th>HY</th>\n",
       "      <th>AY</th>\n",
       "      <th>HR</th>\n",
       "      <th>AR</th>\n",
       "      <th>MaxH</th>\n",
       "      <th>MaxD</th>\n",
       "      <th>MaxA</th>\n",
       "      <th>AvgH</th>\n",
       "      <th>AvgD</th>\n",
       "      <th>AvgA</th>\n",
       "    </tr>\n",
       "  </thead>\n",
       "  <tbody>\n",
       "    <tr>\n",
       "      <th>0</th>\n",
       "      <td>Burnley</td>\n",
       "      <td>Man City</td>\n",
       "      <td>0</td>\n",
       "      <td>3</td>\n",
       "      <td>A</td>\n",
       "      <td>0</td>\n",
       "      <td>2</td>\n",
       "      <td>A</td>\n",
       "      <td>6</td>\n",
       "      <td>17</td>\n",
       "      <td>...</td>\n",
       "      <td>0</td>\n",
       "      <td>0</td>\n",
       "      <td>1</td>\n",
       "      <td>0</td>\n",
       "      <td>9.50</td>\n",
       "      <td>5.68</td>\n",
       "      <td>1.39</td>\n",
       "      <td>9.02</td>\n",
       "      <td>5.35</td>\n",
       "      <td>1.35</td>\n",
       "    </tr>\n",
       "    <tr>\n",
       "      <th>1</th>\n",
       "      <td>Arsenal</td>\n",
       "      <td>Nott'm Forest</td>\n",
       "      <td>2</td>\n",
       "      <td>1</td>\n",
       "      <td>H</td>\n",
       "      <td>2</td>\n",
       "      <td>0</td>\n",
       "      <td>H</td>\n",
       "      <td>15</td>\n",
       "      <td>6</td>\n",
       "      <td>...</td>\n",
       "      <td>2</td>\n",
       "      <td>2</td>\n",
       "      <td>0</td>\n",
       "      <td>0</td>\n",
       "      <td>1.21</td>\n",
       "      <td>8.50</td>\n",
       "      <td>17.50</td>\n",
       "      <td>1.18</td>\n",
       "      <td>7.64</td>\n",
       "      <td>15.67</td>\n",
       "    </tr>\n",
       "    <tr>\n",
       "      <th>2</th>\n",
       "      <td>Bournemouth</td>\n",
       "      <td>West Ham</td>\n",
       "      <td>1</td>\n",
       "      <td>1</td>\n",
       "      <td>D</td>\n",
       "      <td>0</td>\n",
       "      <td>0</td>\n",
       "      <td>D</td>\n",
       "      <td>14</td>\n",
       "      <td>16</td>\n",
       "      <td>...</td>\n",
       "      <td>1</td>\n",
       "      <td>4</td>\n",
       "      <td>0</td>\n",
       "      <td>0</td>\n",
       "      <td>2.80</td>\n",
       "      <td>3.62</td>\n",
       "      <td>2.75</td>\n",
       "      <td>2.69</td>\n",
       "      <td>3.44</td>\n",
       "      <td>2.64</td>\n",
       "    </tr>\n",
       "    <tr>\n",
       "      <th>3</th>\n",
       "      <td>Brighton</td>\n",
       "      <td>Luton</td>\n",
       "      <td>4</td>\n",
       "      <td>1</td>\n",
       "      <td>H</td>\n",
       "      <td>1</td>\n",
       "      <td>0</td>\n",
       "      <td>H</td>\n",
       "      <td>27</td>\n",
       "      <td>9</td>\n",
       "      <td>...</td>\n",
       "      <td>2</td>\n",
       "      <td>2</td>\n",
       "      <td>0</td>\n",
       "      <td>0</td>\n",
       "      <td>1.36</td>\n",
       "      <td>6.00</td>\n",
       "      <td>10.50</td>\n",
       "      <td>1.33</td>\n",
       "      <td>5.52</td>\n",
       "      <td>9.61</td>\n",
       "    </tr>\n",
       "    <tr>\n",
       "      <th>4</th>\n",
       "      <td>Everton</td>\n",
       "      <td>Fulham</td>\n",
       "      <td>0</td>\n",
       "      <td>1</td>\n",
       "      <td>A</td>\n",
       "      <td>0</td>\n",
       "      <td>0</td>\n",
       "      <td>D</td>\n",
       "      <td>19</td>\n",
       "      <td>9</td>\n",
       "      <td>...</td>\n",
       "      <td>0</td>\n",
       "      <td>2</td>\n",
       "      <td>0</td>\n",
       "      <td>0</td>\n",
       "      <td>2.30</td>\n",
       "      <td>3.57</td>\n",
       "      <td>3.45</td>\n",
       "      <td>2.24</td>\n",
       "      <td>3.43</td>\n",
       "      <td>3.30</td>\n",
       "    </tr>\n",
       "  </tbody>\n",
       "</table>\n",
       "<p>5 rows × 26 columns</p>\n",
       "</div>"
      ],
      "text/plain": [
       "      HomeTeam       AwayTeam  FTHG  FTAG FTR  HTHG  HTAG HTR  HS  AS  ...  \\\n",
       "0      Burnley       Man City     0     3   A     0     2   A   6  17  ...   \n",
       "1      Arsenal  Nott'm Forest     2     1   H     2     0   H  15   6  ...   \n",
       "2  Bournemouth       West Ham     1     1   D     0     0   D  14  16  ...   \n",
       "3     Brighton          Luton     4     1   H     1     0   H  27   9  ...   \n",
       "4      Everton         Fulham     0     1   A     0     0   D  19   9  ...   \n",
       "\n",
       "   HY  AY  HR  AR  MaxH  MaxD   MaxA  AvgH  AvgD   AvgA  \n",
       "0   0   0   1   0  9.50  5.68   1.39  9.02  5.35   1.35  \n",
       "1   2   2   0   0  1.21  8.50  17.50  1.18  7.64  15.67  \n",
       "2   1   4   0   0  2.80  3.62   2.75  2.69  3.44   2.64  \n",
       "3   2   2   0   0  1.36  6.00  10.50  1.33  5.52   9.61  \n",
       "4   0   2   0   0  2.30  3.57   3.45  2.24  3.43   3.30  \n",
       "\n",
       "[5 rows x 26 columns]"
      ]
     },
<<<<<<< HEAD
     "execution_count": 16,
=======
     "execution_count": 6,
>>>>>>> 1525110bcbbfe72ebb98f19637792897d250231d
     "metadata": {},
     "output_type": "execute_result"
    }
   ],
   "source": [
    "\n",
    "unused_columns = ['Div','Date','Time','Referee','B365>2.5','B365<2.5','P>2.5', 'P<2.5', 'Max>2.5', 'Max<2.5', 'Avg>2.5', 'Avg<2.5', 'AHh', 'B365AHH', 'B365AHA', 'PAHH', 'PAHA', 'MaxAHH', 'MaxAHA', 'AvgAHH', 'AvgAHA', 'B365CH', 'B365CD', 'B365CA', 'BWCH', 'BWCD', 'BWCA', 'IWCH', 'IWCD', 'IWCA', 'PSCH', 'PSCD', 'PSCA', 'WHCH', 'WHCD', 'WHCA', 'VCCH', 'VCCD', 'VCCA', 'MaxCH', 'MaxCD', 'MaxCA', 'AvgCH', 'AvgCD', 'AvgCA', 'B365C>2.5', 'B365C<2.5', 'PC>2.5', 'PC<2.5', 'MaxC>2.5', 'MaxC<2.5', 'AvgC>2.5', 'AvgC<2.5', 'AHCh', 'B365CAHH', 'B365CAHA', 'PCAHH', 'PCAHA', 'MaxCAHH', 'MaxCAHA', 'AvgCAHH', 'AvgCAHA','B365H','B365D','B365A', 'BWH','BWD','BWA','IWH','IWD','IWA','PSH','PSD','PSA','WHH','WHD','WHA','VCH','VCD','VCA']\n",
    "df.drop(unused_columns, axis=1, inplace=True)\n",
    "df.head()\n"
   ]
  },
  {
<<<<<<< HEAD
   "cell_type": "markdown",
   "metadata": {},
=======
   "cell_type": "code",
   "execution_count": 7,
   "metadata": {},
   "outputs": [
    {
     "data": {
      "text/plain": [
       "Div         False\n",
       "Date        False\n",
       "Time        False\n",
       "HomeTeam    False\n",
       "AwayTeam    False\n",
       "            ...  \n",
       "PCAHA       False\n",
       "MaxCAHH      True\n",
       "MaxCAHA      True\n",
       "AvgCAHH     False\n",
       "AvgCAHA     False\n",
       "Length: 106, dtype: bool"
      ]
     },
     "execution_count": 7,
     "metadata": {},
     "output_type": "execute_result"
    }
   ],
>>>>>>> 1525110bcbbfe72ebb98f19637792897d250231d
   "source": [
    "Tratamentos de dados ausentes"
   ]
  },
  {
   "cell_type": "code",
   "execution_count": 8,
   "metadata": {},
<<<<<<< HEAD
   "outputs": [
    {
     "data": {
      "text/plain": [
       "False"
      ]
     },
     "execution_count": 17,
     "metadata": {},
     "output_type": "execute_result"
    }
   ],
=======
   "outputs": [],
>>>>>>> 1525110bcbbfe72ebb98f19637792897d250231d
   "source": [
    "df.isnull().values.any()\n"
   ]
  },
  {
   "cell_type": "markdown",
   "metadata": {},
   "source": [
    "Definição dos tipos dos dados."
   ]
  },
  {
   "cell_type": "code",
<<<<<<< HEAD
   "execution_count": 18,
   "metadata": {},
   "outputs": [
    {
     "name": "stdout",
     "output_type": "stream",
     "text": [
      "HomeTeam     object\n",
      "AwayTeam     object\n",
      "FTHG          int64\n",
      "FTAG          int64\n",
      "FTR          object\n",
      "HTHG          int64\n",
      "HTAG          int64\n",
      "HTR          object\n",
      "HS            int64\n",
      "AS            int64\n",
      "HST           int64\n",
      "AST           int64\n",
      "HF            int64\n",
      "AF            int64\n",
      "HC            int64\n",
      "AC            int64\n",
      "HY            int64\n",
      "AY            int64\n",
      "HR            int64\n",
      "AR            int64\n",
      "MaxH        float64\n",
      "MaxD        float64\n",
      "MaxA        float64\n",
      "AvgH        float64\n",
      "AvgD        float64\n",
      "AvgA        float64\n",
      "dtype: object\n"
     ]
    }
   ],
   "source": [
    "print(df.dtypes)"
   ]
  },
  {
   "cell_type": "markdown",
   "metadata": {},
   "source": []
  },
  {
   "cell_type": "markdown",
   "metadata": {},
   "source": [
    "# Normalização"
   ]
  },
  {
   "cell_type": "code",
   "execution_count": 29,
   "metadata": {},
   "outputs": [],
   "source": [
    "from sklearn.preprocessing import MinMaxScaler\n",
    "\n",
    "scaler = MinMaxScaler(feature_range=(0, 1))\n",
    "df['AvgH_normalized'] = scaler.fit_transform(df[['AvgH']])\n",
    "df['AvgA_normalized'] = scaler.fit_transform(df[['AvgA']])\n",
    "df['AvgD_normalized'] = scaler.fit_transform(df[['AvgD']])"
   ]
  },
  {
   "cell_type": "markdown",
   "metadata": {},
   "source": [
    "# Limpeza de dados\n",
    "Univariado"
   ]
  },
  {
   "cell_type": "code",
   "execution_count": 33,
   "metadata": {},
   "outputs": [
    {
     "data": {
      "text/plain": [
       "count    380.000000\n",
       "mean       2.953737\n",
       "std        2.337089\n",
       "min        1.080000\n",
       "25%        1.640000\n",
       "50%        2.205000\n",
       "75%        3.300000\n",
       "max       18.020000\n",
       "Name: AvgH, dtype: float64"
      ]
     },
     "execution_count": 33,
     "metadata": {},
     "output_type": "execute_result"
    }
   ],
   "source": [
    "df['AvgH'].describe()\n"
   ]
  },
  {
   "cell_type": "code",
   "execution_count": 34,
   "metadata": {},
   "outputs": [
    {
     "data": {
      "text/plain": [
       "count    380.000000\n",
       "mean       0.110610\n",
       "std        0.137963\n",
       "min        0.000000\n",
       "25%        0.033058\n",
       "50%        0.066411\n",
       "75%        0.131051\n",
       "max        1.000000\n",
       "Name: AvgH_normalized, dtype: float64"
      ]
     },
     "execution_count": 34,
     "metadata": {},
     "output_type": "execute_result"
    }
   ],
   "source": [
    "df['AvgH_normalized'].describe()"
   ]
  },
  {
   "cell_type": "code",
   "execution_count": 26,
   "metadata": {},
   "outputs": [
    {
     "data": {
      "text/plain": [
       "<Axes: >"
      ]
     },
     "execution_count": 26,
     "metadata": {},
     "output_type": "execute_result"
    },
    {
     "data": {
      "image/png": "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",
      "text/plain": [
       "<Figure size 640x480 with 1 Axes>"
      ]
     },
     "metadata": {},
     "output_type": "display_data"
    }
   ],
   "source": [
    "df['AvgH_normalized'].plot.box()"
   ]
  },
  {
   "cell_type": "code",
   "execution_count": 23,
   "metadata": {},
   "outputs": [
    {
     "data": {
      "text/plain": [
       "<Axes: >"
      ]
     },
     "execution_count": 23,
     "metadata": {},
     "output_type": "execute_result"
    },
    {
     "data": {
      "image/png": "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",
      "text/plain": [
       "<Figure size 640x480 with 1 Axes>"
      ]
     },
     "metadata": {},
     "output_type": "display_data"
    }
   ],
   "source": [
    "df['AvgH'].hist()"
   ]
  },
  {
   "cell_type": "markdown",
   "metadata": {},
   "source": [
    "# Análises"
   ]
  },
  {
   "cell_type": "code",
   "execution_count": 25,
=======
   "execution_count": 9,
>>>>>>> 1525110bcbbfe72ebb98f19637792897d250231d
   "metadata": {},
   "outputs": [
    {
     "name": "stdout",
     "output_type": "stream",
     "text": [
      "Total Full Time Goals:  1246\n",
      "Total Half Time Goals:  517\n"
     ]
    }
   ],
   "source": [
    "total_FTHG = df['FTHG'].sum()\n",
    "total_FTAG = df['FTAG'].sum()\n",
    "\n",
    "total_HTHG = df['HTHG'].sum()\n",
    "total_HTAG = df['HTAG'].sum()\n",
    "\n",
    "total_FTG = total_FTHG + total_FTAG\n",
    "total_HTG = total_HTHG + total_HTAG\n",
    "\n",
    "print(\"Total Full Time Goals: \", total_FTG)\n",
    "print(\"Total Half Time Goals: \", total_HTG)\n",
    "\n"
   ]
  },
  {
   "cell_type": "code",
<<<<<<< HEAD
   "execution_count": null,
   "metadata": {},
   "outputs": [],
   "source": [
    "df['GoalDifferenceFT'] = df['FTHG'] - df['FTAG']\n",
    "df['GoalDifferenceHT'] = df['HTHG'] - df['HTAG']"
   ]
  },
  {
   "cell_type": "markdown",
   "metadata": {},
   "source": [
    "# Ideias de predições:\n",
    "Vencedor de acordo com o placar do primeiro tempo.\n",
    "Gols feitos por quantidade de chutes/chutes ao alvo.\n",
    "\n"
   ]
  },
  {
   "cell_type": "code",
   "execution_count": 5,
=======
   "execution_count": 10,
>>>>>>> 1525110bcbbfe72ebb98f19637792897d250231d
   "metadata": {},
   "outputs": [
    {
     "name": "stdout",
     "output_type": "stream",
     "text": [
      "A porcentagem de valores 'H' na coluna 'FTR' é de 46.05%\n",
      "A porcentagem de valores 'D' na coluna 'FTR' é de 21.58%\n",
      "A porcentagem de valores 'A' na coluna 'FTR' é de 32.37%\n"
     ]
    }
   ],
   "source": [
    "percentage_h = (df['FTR'].value_counts()['H'] / len(df['FTR'])) * 100\n",
    "print(f\"A porcentagem de valores 'H' na coluna 'FTR' é de {percentage_h:.2f}%\")\n",
    "\n",
    "percentage_d = (df['FTR'].value_counts()['D'] / len(df['FTR'])) * 100\n",
    "print(f\"A porcentagem de valores 'D' na coluna 'FTR' é de {percentage_d:.2f}%\")\n",
    "\n",
    "percentage_a = (df['FTR'].value_counts()['A'] / len(df['FTR'])) * 100\n",
    "print(f\"A porcentagem de valores 'A' na coluna 'FTR' é de {percentage_a:.2f}%\")\n",
    "\n"
   ]
  },
  {
   "cell_type": "code",
   "execution_count": 11,
   "metadata": {},
   "outputs": [
    {
     "data": {
      "image/png": "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",
      "text/plain": [
       "<Figure size 432x288 with 1 Axes>"
      ]
     },
     "metadata": {
      "needs_background": "light"
     },
     "output_type": "display_data"
    }
   ],
   "source": [
    "plt.bar(['Vitória Casa', 'Empate', 'Vitória Fora'], [percentage_h, percentage_d, percentage_a])\n",
    "plt.xlabel('\\nResultados')\n",
    "plt.ylabel('Porcentagem (%)')\n",
    "plt.title('Vantagem time da casa')\n",
    "plt.show()"
   ]
  },
  {
   "cell_type": "code",
   "execution_count": 12,
   "metadata": {},
   "outputs": [
    {
     "name": "stdout",
     "output_type": "stream",
     "text": [
      "O time favorito venceu 227 partidas de 380 possíveis\n"
     ]
    }
   ],
   "source": [
    "df['ExpectedResult'] = df[['B365H', 'B365D', 'B365A']].idxmin(axis=1)\n",
    "\n",
    "mapping = {'B365H': 'H', 'B365D': 'D', 'B365A': 'A'}\n",
    "df['ExpectedResult'] = df['ExpectedResult'].map(mapping)\n",
    "\n",
    "matches = (df['ExpectedResult'] == df['FTR']).sum()\n",
    "\n",
    "print(f\"O time favorito venceu {matches} partidas de {len(df)} possíveis\")"
   ]
  },
  {
   "cell_type": "code",
   "execution_count": 13,
   "metadata": {},
   "outputs": [],
   "source": [
    "def calculate_amount(row):\n",
    "    odds_mapping = {'H': 'B365H', 'A': 'B365A', 'D': 'B365D'}\n",
    "\n",
    "    if row['ExpectedResult'] == row['FTR']:\n",
    "        return row[odds_mapping[row['ExpectedResult']]]\n",
    "    else:\n",
    "        return 0\n",
    "\n"
   ]
  },
  {
   "cell_type": "code",
   "execution_count": 14,
   "metadata": {},
   "outputs": [
    {
     "data": {
      "image/png": "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",
      "text/plain": [
       "<Figure size 432x288 with 1 Axes>"
      ]
     },
     "metadata": {
      "needs_background": "light"
     },
     "output_type": "display_data"
    },
    {
     "name": "stdout",
     "output_type": "stream",
     "text": [
      "O usuário realizou 380 apostas.\n",
      "O usuário ganhou 7.779999999999973 reais.\n"
     ]
    }
   ],
   "source": [
    "df['amount'] = df.apply(calculate_amount, axis=1)\n",
    "\n",
    "# Calculate the cumulative sum of the amounts to get the user's balance after each match\n",
    "df['cumulative_amount'] = df['amount'].cumsum()\n",
    "\n",
    "# Plot the user's balance over time\n",
    "plt.plot(df['cumulative_amount'])\n",
    "plt.xlabel('Partidas')\n",
    "plt.ylabel('Banca')\n",
    "plt.title('Banca do usuário ao longo do tempo')\n",
    "plt.show()\n",
    "\n",
    "print(f\"O usuário realizou {len(df['cumulative_amount'])} apostas.\")\n",
    "print(f\"O usuário ganhou {df['amount'].sum()-len(df['cumulative_amount'])} reais.\")"
   ]
  }
 ],
 "metadata": {
  "kernelspec": {
   "display_name": "Python 3",
   "language": "python",
   "name": "python3"
  },
  "language_info": {
   "codemirror_mode": {
    "name": "ipython",
    "version": 3
   },
   "file_extension": ".py",
   "mimetype": "text/x-python",
   "name": "python",
   "nbconvert_exporter": "python",
   "pygments_lexer": "ipython3",
   "version": "3.10.2"
  }
 },
 "nbformat": 4,
 "nbformat_minor": 2
}
