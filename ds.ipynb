{
 "cells": [
  {
   "cell_type": "markdown",
   "metadata": {},
   "source": [
    "```markdown\n",
    "Análise de dados Premier League 2023-24 \n",
    "```\n"
   ]
  },
  {
   "cell_type": "code",
   "execution_count": 5,
   "metadata": {},
   "outputs": [
    {
     "name": "stdout",
     "output_type": "stream",
     "text": [
      "Requirement already satisfied: pandas in /Library/Frameworks/Python.framework/Versions/3.10/lib/python3.10/site-packages (2.2.2)\n",
      "Requirement already satisfied: numpy>=1.22.4 in /Library/Frameworks/Python.framework/Versions/3.10/lib/python3.10/site-packages (from pandas) (1.26.4)\n",
      "Requirement already satisfied: python-dateutil>=2.8.2 in /Library/Frameworks/Python.framework/Versions/3.10/lib/python3.10/site-packages (from pandas) (2.8.2)\n",
      "Requirement already satisfied: pytz>=2020.1 in /Library/Frameworks/Python.framework/Versions/3.10/lib/python3.10/site-packages (from pandas) (2024.1)\n",
      "Requirement already satisfied: tzdata>=2022.7 in /Library/Frameworks/Python.framework/Versions/3.10/lib/python3.10/site-packages (from pandas) (2024.1)\n",
      "Requirement already satisfied: six>=1.5 in /Library/Frameworks/Python.framework/Versions/3.10/lib/python3.10/site-packages (from python-dateutil>=2.8.2->pandas) (1.16.0)\n",
      "Note: you may need to restart the kernel to use updated packages.\n",
      "Requirement already satisfied: matplotlib in /Library/Frameworks/Python.framework/Versions/3.10/lib/python3.10/site-packages (3.9.0)\n",
      "Requirement already satisfied: contourpy>=1.0.1 in /Library/Frameworks/Python.framework/Versions/3.10/lib/python3.10/site-packages (from matplotlib) (1.2.1)\n",
      "Requirement already satisfied: cycler>=0.10 in /Library/Frameworks/Python.framework/Versions/3.10/lib/python3.10/site-packages (from matplotlib) (0.12.1)\n",
      "Requirement already satisfied: fonttools>=4.22.0 in /Library/Frameworks/Python.framework/Versions/3.10/lib/python3.10/site-packages (from matplotlib) (4.53.0)\n",
      "Requirement already satisfied: kiwisolver>=1.3.1 in /Library/Frameworks/Python.framework/Versions/3.10/lib/python3.10/site-packages (from matplotlib) (1.4.5)\n",
      "Requirement already satisfied: numpy>=1.23 in /Library/Frameworks/Python.framework/Versions/3.10/lib/python3.10/site-packages (from matplotlib) (1.26.4)\n",
      "Requirement already satisfied: packaging>=20.0 in /Library/Frameworks/Python.framework/Versions/3.10/lib/python3.10/site-packages (from matplotlib) (21.3)\n",
      "Requirement already satisfied: pillow>=8 in /Library/Frameworks/Python.framework/Versions/3.10/lib/python3.10/site-packages (from matplotlib) (10.3.0)\n",
      "Requirement already satisfied: pyparsing>=2.3.1 in /Library/Frameworks/Python.framework/Versions/3.10/lib/python3.10/site-packages (from matplotlib) (3.0.7)\n",
      "Requirement already satisfied: python-dateutil>=2.7 in /Library/Frameworks/Python.framework/Versions/3.10/lib/python3.10/site-packages (from matplotlib) (2.8.2)\n",
      "Requirement already satisfied: six>=1.5 in /Library/Frameworks/Python.framework/Versions/3.10/lib/python3.10/site-packages (from python-dateutil>=2.7->matplotlib) (1.16.0)\n",
      "Note: you may need to restart the kernel to use updated packages.\n"
     ]
    }
   ],
   "source": [
    "%pip install pandas\n",
    "%pip install matplotlib"
   ]
  },
  {
   "cell_type": "code",
   "execution_count": 6,
   "metadata": {},
   "outputs": [
    {
     "data": {
      "text/html": [
       "<div>\n",
       "<style scoped>\n",
       "    .dataframe tbody tr th:only-of-type {\n",
       "        vertical-align: middle;\n",
       "    }\n",
       "\n",
       "    .dataframe tbody tr th {\n",
       "        vertical-align: top;\n",
       "    }\n",
       "\n",
       "    .dataframe thead th {\n",
       "        text-align: right;\n",
       "    }\n",
       "</style>\n",
       "<table border=\"1\" class=\"dataframe\">\n",
       "  <thead>\n",
       "    <tr style=\"text-align: right;\">\n",
       "      <th></th>\n",
       "      <th>Div</th>\n",
       "      <th>Date</th>\n",
       "      <th>Time</th>\n",
       "      <th>HomeTeam</th>\n",
       "      <th>AwayTeam</th>\n",
       "      <th>FTHG</th>\n",
       "      <th>FTAG</th>\n",
       "      <th>FTR</th>\n",
       "      <th>HTHG</th>\n",
       "      <th>HTAG</th>\n",
       "      <th>...</th>\n",
       "      <th>AvgC&lt;2.5</th>\n",
       "      <th>AHCh</th>\n",
       "      <th>B365CAHH</th>\n",
       "      <th>B365CAHA</th>\n",
       "      <th>PCAHH</th>\n",
       "      <th>PCAHA</th>\n",
       "      <th>MaxCAHH</th>\n",
       "      <th>MaxCAHA</th>\n",
       "      <th>AvgCAHH</th>\n",
       "      <th>AvgCAHA</th>\n",
       "    </tr>\n",
       "  </thead>\n",
       "  <tbody>\n",
       "    <tr>\n",
       "      <th>0</th>\n",
       "      <td>E0</td>\n",
       "      <td>11/08/2023</td>\n",
       "      <td>20:00</td>\n",
       "      <td>Burnley</td>\n",
       "      <td>Man City</td>\n",
       "      <td>0</td>\n",
       "      <td>3</td>\n",
       "      <td>A</td>\n",
       "      <td>0</td>\n",
       "      <td>2</td>\n",
       "      <td>...</td>\n",
       "      <td>2.28</td>\n",
       "      <td>1.50</td>\n",
       "      <td>1.95</td>\n",
       "      <td>1.98</td>\n",
       "      <td>1.95</td>\n",
       "      <td>1.97</td>\n",
       "      <td>NaN</td>\n",
       "      <td>NaN</td>\n",
       "      <td>1.92</td>\n",
       "      <td>1.95</td>\n",
       "    </tr>\n",
       "    <tr>\n",
       "      <th>1</th>\n",
       "      <td>E0</td>\n",
       "      <td>12/08/2023</td>\n",
       "      <td>12:30</td>\n",
       "      <td>Arsenal</td>\n",
       "      <td>Nott'm Forest</td>\n",
       "      <td>2</td>\n",
       "      <td>1</td>\n",
       "      <td>H</td>\n",
       "      <td>2</td>\n",
       "      <td>0</td>\n",
       "      <td>...</td>\n",
       "      <td>2.63</td>\n",
       "      <td>-2.00</td>\n",
       "      <td>1.95</td>\n",
       "      <td>1.98</td>\n",
       "      <td>1.93</td>\n",
       "      <td>1.97</td>\n",
       "      <td>2.01</td>\n",
       "      <td>2.09</td>\n",
       "      <td>1.95</td>\n",
       "      <td>1.92</td>\n",
       "    </tr>\n",
       "    <tr>\n",
       "      <th>2</th>\n",
       "      <td>E0</td>\n",
       "      <td>12/08/2023</td>\n",
       "      <td>15:00</td>\n",
       "      <td>Bournemouth</td>\n",
       "      <td>West Ham</td>\n",
       "      <td>1</td>\n",
       "      <td>1</td>\n",
       "      <td>D</td>\n",
       "      <td>0</td>\n",
       "      <td>0</td>\n",
       "      <td>...</td>\n",
       "      <td>2.12</td>\n",
       "      <td>0.00</td>\n",
       "      <td>2.02</td>\n",
       "      <td>1.91</td>\n",
       "      <td>2.01</td>\n",
       "      <td>1.92</td>\n",
       "      <td>2.06</td>\n",
       "      <td>1.96</td>\n",
       "      <td>1.96</td>\n",
       "      <td>1.91</td>\n",
       "    </tr>\n",
       "    <tr>\n",
       "      <th>3</th>\n",
       "      <td>E0</td>\n",
       "      <td>12/08/2023</td>\n",
       "      <td>15:00</td>\n",
       "      <td>Brighton</td>\n",
       "      <td>Luton</td>\n",
       "      <td>4</td>\n",
       "      <td>1</td>\n",
       "      <td>H</td>\n",
       "      <td>1</td>\n",
       "      <td>0</td>\n",
       "      <td>...</td>\n",
       "      <td>2.48</td>\n",
       "      <td>-1.75</td>\n",
       "      <td>2.01</td>\n",
       "      <td>1.92</td>\n",
       "      <td>2.00</td>\n",
       "      <td>1.91</td>\n",
       "      <td>2.14</td>\n",
       "      <td>1.93</td>\n",
       "      <td>2.00</td>\n",
       "      <td>1.86</td>\n",
       "    </tr>\n",
       "    <tr>\n",
       "      <th>4</th>\n",
       "      <td>E0</td>\n",
       "      <td>12/08/2023</td>\n",
       "      <td>15:00</td>\n",
       "      <td>Everton</td>\n",
       "      <td>Fulham</td>\n",
       "      <td>0</td>\n",
       "      <td>1</td>\n",
       "      <td>A</td>\n",
       "      <td>0</td>\n",
       "      <td>0</td>\n",
       "      <td>...</td>\n",
       "      <td>1.71</td>\n",
       "      <td>-0.25</td>\n",
       "      <td>2.06</td>\n",
       "      <td>1.87</td>\n",
       "      <td>2.04</td>\n",
       "      <td>1.88</td>\n",
       "      <td>2.08</td>\n",
       "      <td>1.99</td>\n",
       "      <td>1.98</td>\n",
       "      <td>1.88</td>\n",
       "    </tr>\n",
       "  </tbody>\n",
       "</table>\n",
       "<p>5 rows × 106 columns</p>\n",
       "</div>"
      ],
      "text/plain": [
       "  Div        Date   Time     HomeTeam       AwayTeam  FTHG  FTAG FTR  HTHG  \\\n",
       "0  E0  11/08/2023  20:00      Burnley       Man City     0     3   A     0   \n",
       "1  E0  12/08/2023  12:30      Arsenal  Nott'm Forest     2     1   H     2   \n",
       "2  E0  12/08/2023  15:00  Bournemouth       West Ham     1     1   D     0   \n",
       "3  E0  12/08/2023  15:00     Brighton          Luton     4     1   H     1   \n",
       "4  E0  12/08/2023  15:00      Everton         Fulham     0     1   A     0   \n",
       "\n",
       "   HTAG  ... AvgC<2.5  AHCh  B365CAHH  B365CAHA  PCAHH  PCAHA  MaxCAHH  \\\n",
       "0     2  ...     2.28  1.50      1.95      1.98   1.95   1.97      NaN   \n",
       "1     0  ...     2.63 -2.00      1.95      1.98   1.93   1.97     2.01   \n",
       "2     0  ...     2.12  0.00      2.02      1.91   2.01   1.92     2.06   \n",
       "3     0  ...     2.48 -1.75      2.01      1.92   2.00   1.91     2.14   \n",
       "4     0  ...     1.71 -0.25      2.06      1.87   2.04   1.88     2.08   \n",
       "\n",
       "   MaxCAHA  AvgCAHH  AvgCAHA  \n",
       "0      NaN     1.92     1.95  \n",
       "1     2.09     1.95     1.92  \n",
       "2     1.96     1.96     1.91  \n",
       "3     1.93     2.00     1.86  \n",
       "4     1.99     1.98     1.88  \n",
       "\n",
       "[5 rows x 106 columns]"
      ]
     },
     "execution_count": 6,
     "metadata": {},
     "output_type": "execute_result"
    }
   ],
   "source": [
    "import pandas as pd\n",
    "import numpy as np\n",
    "import matplotlib.pyplot as plt\n",
    "\n",
    "# Create a DataFrame\n",
    "df = pd.read_csv('PL23.csv')\n",
    "\n",
    "df.head()"
   ]
  },
  {
   "cell_type": "code",
   "execution_count": 7,
   "metadata": {},
   "outputs": [
    {
     "data": {
      "text/plain": [
       "Div         False\n",
       "Date        False\n",
       "Time        False\n",
       "HomeTeam    False\n",
       "AwayTeam    False\n",
       "            ...  \n",
       "PCAHA       False\n",
       "MaxCAHH      True\n",
       "MaxCAHA      True\n",
       "AvgCAHH     False\n",
       "AvgCAHA     False\n",
       "Length: 106, dtype: bool"
      ]
     },
     "execution_count": 7,
     "metadata": {},
     "output_type": "execute_result"
    }
   ],
   "source": [
    "df.isnull().any()"
   ]
  },
  {
   "cell_type": "code",
   "execution_count": 8,
   "metadata": {},
   "outputs": [],
   "source": [
    "# df.dropna(axis=1, inplace=True)\n",
    "# df.head()\n"
   ]
  },
  {
   "cell_type": "code",
   "execution_count": 9,
   "metadata": {},
   "outputs": [
    {
     "name": "stdout",
     "output_type": "stream",
     "text": [
      "Total Full Time Goals:  1246\n",
      "Total Half Time Goals:  517\n"
     ]
    }
   ],
   "source": [
    "total_FTHG = df['FTHG'].sum()\n",
    "total_FTAG = df['FTAG'].sum()\n",
    "\n",
    "total_HTHG = df['HTHG'].sum()\n",
    "total_HTAG = df['HTAG'].sum()\n",
    "\n",
    "total_FTG = total_FTHG + total_FTAG\n",
    "total_HTG = total_HTHG + total_HTAG\n",
    "\n",
    "print(\"Total Full Time Goals: \", total_FTG)\n",
    "print(\"Total Half Time Goals: \", total_HTG)\n",
    "\n"
   ]
  },
  {
   "cell_type": "code",
   "execution_count": 10,
   "metadata": {},
   "outputs": [
    {
     "name": "stdout",
     "output_type": "stream",
     "text": [
      "A porcentagem de valores 'H' na coluna 'FTR' é de 46.05%\n",
      "A porcentagem de valores 'D' na coluna 'FTR' é de 21.58%\n",
      "A porcentagem de valores 'A' na coluna 'FTR' é de 32.37%\n"
     ]
    }
   ],
   "source": [
    "percentage_h = (df['FTR'].value_counts()['H'] / len(df['FTR'])) * 100\n",
    "print(f\"A porcentagem de valores 'H' na coluna 'FTR' é de {percentage_h:.2f}%\")\n",
    "\n",
    "percentage_d = (df['FTR'].value_counts()['D'] / len(df['FTR'])) * 100\n",
    "print(f\"A porcentagem de valores 'D' na coluna 'FTR' é de {percentage_d:.2f}%\")\n",
    "\n",
    "percentage_a = (df['FTR'].value_counts()['A'] / len(df['FTR'])) * 100\n",
    "print(f\"A porcentagem de valores 'A' na coluna 'FTR' é de {percentage_a:.2f}%\")\n",
    "\n"
   ]
  },
  {
   "cell_type": "code",
   "execution_count": 11,
   "metadata": {},
   "outputs": [
    {
     "data": {
      "image/png": "[encoded data removed]",
      "text/plain": [
       "<Figure size 432x288 with 1 Axes>"
      ]
     },
     "metadata": {
      "needs_background": "light"
     },
     "output_type": "display_data"
    }
   ],
   "source": [
    "plt.bar(['Vitória Casa', 'Empate', 'Vitória Fora'], [percentage_h, percentage_d, percentage_a])\n",
    "plt.xlabel('\\nResultados')\n",
    "plt.ylabel('Porcentagem (%)')\n",
    "plt.title('Vantagem time da casa')\n",
    "plt.show()"
   ]
  },
  {
   "cell_type": "code",
   "execution_count": 12,
   "metadata": {},
   "outputs": [
    {
     "name": "stdout",
     "output_type": "stream",
     "text": [
      "O time favorito venceu 227 partidas de 380 possíveis\n"
     ]
    }
   ],
   "source": [
    "df['ExpectedResult'] = df[['B365H', 'B365D', 'B365A']].idxmin(axis=1)\n",
    "\n",
    "mapping = {'B365H': 'H', 'B365D': 'D', 'B365A': 'A'}\n",
    "df['ExpectedResult'] = df['ExpectedResult'].map(mapping)\n",
    "\n",
    "matches = (df['ExpectedResult'] == df['FTR']).sum()\n",
    "\n",
    "print(f\"O time favorito venceu {matches} partidas de {len(df)} possíveis\")"
   ]
  },
  {
   "cell_type": "code",
   "execution_count": 13,
   "metadata": {},
   "outputs": [],
   "source": [
    "def calculate_amount(row):\n",
    "    odds_mapping = {'H': 'B365H', 'A': 'B365A', 'D': 'B365D'}\n",
    "\n",
    "    if row['ExpectedResult'] == row['FTR']:\n",
    "        return row[odds_mapping[row['ExpectedResult']]]\n",
    "    else:\n",
    "        return 0\n",
    "\n"
   ]
  },
  {
   "cell_type": "code",
   "execution_count": 14,
   "metadata": {},
   "outputs": [
    {
     "data": {
      "image/png": "[encoded data removed]",
      "text/plain": [
       "<Figure size 432x288 with 1 Axes>"
      ]
     },
     "metadata": {
      "needs_background": "light"
     },
     "output_type": "display_data"
    },
    {
     "name": "stdout",
     "output_type": "stream",
     "text": [
      "O usuário realizou 380 apostas.\n",
      "O usuário ganhou 7.779999999999973 reais.\n"
     ]
    }
   ],
   "source": [
    "df['amount'] = df.apply(calculate_amount, axis=1)\n",
    "\n",
    "# Calculate the cumulative sum of the amounts to get the user's balance after each match\n",
    "df['cumulative_amount'] = df['amount'].cumsum()\n",
    "\n",
    "# Plot the user's balance over time\n",
    "plt.plot(df['cumulative_amount'])\n",
    "plt.xlabel('Partidas')\n",
    "plt.ylabel('Banca')\n",
    "plt.title('Banca do usuário ao longo do tempo')\n",
    "plt.show()\n",
    "\n",
    "print(f\"O usuário realizou {len(df['cumulative_amount'])} apostas.\")\n",
    "print(f\"O usuário ganhou {df['amount'].sum()-len(df['cumulative_amount'])} reais.\")"
   ]
  }
 ],
 "metadata": {
  "kernelspec": {
   "display_name": "Python 3",
   "language": "python",
   "name": "python3"
  },
  "language_info": {
   "codemirror_mode": {
    "name": "ipython",
    "version": 3
   },
   "file_extension": ".py",
   "mimetype": "text/x-python",
   "name": "python",
   "nbconvert_exporter": "python",
   "pygments_lexer": "ipython3",
   "version": "3.10.2"
  }
 },
 "nbformat": 4,
 "nbformat_minor": 2
}
