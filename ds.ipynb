{
 "cells": [
  {
   "cell_type": "markdown",
   "metadata": {},
   "source": [
    "\n",
    "## Projeto data science\n",
    "#### Análise de dados Premier League 2023-24\n",
    "#### Dupla: Henrique Melo (hcm) e Philippe Menge (pmal)\n",
    "\n"
   ]
  },
  {
   "cell_type": "markdown",
   "metadata": {},
   "source": [
    "Definição do dataset"
   ]
  },
  {
   "cell_type": "code",
   "execution_count": 5,
   "metadata": {},
   "outputs": [
    {
     "name": "stdout",
     "output_type": "stream",
     "text": [
      "Requirement already satisfied: seaborn in /Library/Frameworks/Python.framework/Versions/3.10/lib/python3.10/site-packages (0.13.2)\n",
      "Requirement already satisfied: numpy!=1.24.0,>=1.20 in /Library/Frameworks/Python.framework/Versions/3.10/lib/python3.10/site-packages (from seaborn) (1.26.4)\n",
      "Requirement already satisfied: pandas>=1.2 in /Library/Frameworks/Python.framework/Versions/3.10/lib/python3.10/site-packages (from seaborn) (2.2.2)\n",
      "Requirement already satisfied: matplotlib!=3.6.1,>=3.4 in /Library/Frameworks/Python.framework/Versions/3.10/lib/python3.10/site-packages (from seaborn) (3.9.0)\n",
      "Requirement already satisfied: contourpy>=1.0.1 in /Library/Frameworks/Python.framework/Versions/3.10/lib/python3.10/site-packages (from matplotlib!=3.6.1,>=3.4->seaborn) (1.2.1)\n",
      "Requirement already satisfied: cycler>=0.10 in /Library/Frameworks/Python.framework/Versions/3.10/lib/python3.10/site-packages (from matplotlib!=3.6.1,>=3.4->seaborn) (0.12.1)\n",
      "Requirement already satisfied: fonttools>=4.22.0 in /Library/Frameworks/Python.framework/Versions/3.10/lib/python3.10/site-packages (from matplotlib!=3.6.1,>=3.4->seaborn) (4.53.0)\n",
      "Requirement already satisfied: kiwisolver>=1.3.1 in /Library/Frameworks/Python.framework/Versions/3.10/lib/python3.10/site-packages (from matplotlib!=3.6.1,>=3.4->seaborn) (1.4.5)\n",
      "Requirement already satisfied: packaging>=20.0 in /Library/Frameworks/Python.framework/Versions/3.10/lib/python3.10/site-packages (from matplotlib!=3.6.1,>=3.4->seaborn) (21.3)\n",
      "Requirement already satisfied: pillow>=8 in /Library/Frameworks/Python.framework/Versions/3.10/lib/python3.10/site-packages (from matplotlib!=3.6.1,>=3.4->seaborn) (10.3.0)\n",
      "Requirement already satisfied: pyparsing>=2.3.1 in /Library/Frameworks/Python.framework/Versions/3.10/lib/python3.10/site-packages (from matplotlib!=3.6.1,>=3.4->seaborn) (3.0.7)\n",
      "Requirement already satisfied: python-dateutil>=2.7 in /Library/Frameworks/Python.framework/Versions/3.10/lib/python3.10/site-packages (from matplotlib!=3.6.1,>=3.4->seaborn) (2.8.2)\n",
      "Requirement already satisfied: pytz>=2020.1 in /Library/Frameworks/Python.framework/Versions/3.10/lib/python3.10/site-packages (from pandas>=1.2->seaborn) (2024.1)\n",
      "Requirement already satisfied: tzdata>=2022.7 in /Library/Frameworks/Python.framework/Versions/3.10/lib/python3.10/site-packages (from pandas>=1.2->seaborn) (2024.1)\n",
      "Requirement already satisfied: six>=1.5 in /Library/Frameworks/Python.framework/Versions/3.10/lib/python3.10/site-packages (from python-dateutil>=2.7->matplotlib!=3.6.1,>=3.4->seaborn) (1.16.0)\n",
      "\n",
      "\u001b[1m[\u001b[0m\u001b[34;49mnotice\u001b[0m\u001b[1;39;49m]\u001b[0m\u001b[39;49m A new release of pip is available: \u001b[0m\u001b[31;49m24.0\u001b[0m\u001b[39;49m -> \u001b[0m\u001b[32;49m24.1.2\u001b[0m\n",
      "\u001b[1m[\u001b[0m\u001b[34;49mnotice\u001b[0m\u001b[1;39;49m]\u001b[0m\u001b[39;49m To update, run: \u001b[0m\u001b[32;49mpip install --upgrade pip\u001b[0m\n",
      "Note: you may need to restart the kernel to use updated packages.\n"
     ]
    }
   ],
   "source": [
    "%pip install seaborn"
   ]
  },
  {
   "cell_type": "code",
   "execution_count": 6,
   "metadata": {},
   "outputs": [],
   "source": [
    "import pandas as pd\n",
    "import numpy as np\n",
    "import matplotlib.pyplot as plt\n",
    "import seaborn as sns\n",
    "\n",
    "\n",
    "from scipy.stats import median_abs_deviation, ttest_1samp\n",
    "from scipy.spatial.distance import mahalanobis\n",
    "\n",
    "from sklearn.preprocessing import MinMaxScaler\n",
    "from sklearn.ensemble import IsolationForest\n",
    "from sklearn.covariance import EllipticEnvelope\n",
    "\n",
    "\n"
   ]
  },
  {
   "cell_type": "code",
   "execution_count": 7,
   "metadata": {},
   "outputs": [
    {
     "data": {
      "text/html": [
       "<div>\n",
       "<style scoped>\n",
       "    .dataframe tbody tr th:only-of-type {\n",
       "        vertical-align: middle;\n",
       "    }\n",
       "\n",
       "    .dataframe tbody tr th {\n",
       "        vertical-align: top;\n",
       "    }\n",
       "\n",
       "    .dataframe thead th {\n",
       "        text-align: right;\n",
       "    }\n",
       "</style>\n",
       "<table border=\"1\" class=\"dataframe\">\n",
       "  <thead>\n",
       "    <tr style=\"text-align: right;\">\n",
       "      <th></th>\n",
       "      <th>Div</th>\n",
       "      <th>Date</th>\n",
       "      <th>Time</th>\n",
       "      <th>HomeTeam</th>\n",
       "      <th>AwayTeam</th>\n",
       "      <th>FTHG</th>\n",
       "      <th>FTAG</th>\n",
       "      <th>FTR</th>\n",
       "      <th>HTHG</th>\n",
       "      <th>HTAG</th>\n",
       "      <th>...</th>\n",
       "      <th>AvgC&lt;2.5</th>\n",
       "      <th>AHCh</th>\n",
       "      <th>B365CAHH</th>\n",
       "      <th>B365CAHA</th>\n",
       "      <th>PCAHH</th>\n",
       "      <th>PCAHA</th>\n",
       "      <th>MaxCAHH</th>\n",
       "      <th>MaxCAHA</th>\n",
       "      <th>AvgCAHH</th>\n",
       "      <th>AvgCAHA</th>\n",
       "    </tr>\n",
       "  </thead>\n",
       "  <tbody>\n",
       "    <tr>\n",
       "      <th>0</th>\n",
       "      <td>E0</td>\n",
       "      <td>11/08/2023</td>\n",
       "      <td>20:00</td>\n",
       "      <td>Burnley</td>\n",
       "      <td>Man City</td>\n",
       "      <td>0</td>\n",
       "      <td>3</td>\n",
       "      <td>A</td>\n",
       "      <td>0</td>\n",
       "      <td>2</td>\n",
       "      <td>...</td>\n",
       "      <td>2.28</td>\n",
       "      <td>1.50</td>\n",
       "      <td>1.95</td>\n",
       "      <td>1.98</td>\n",
       "      <td>1.95</td>\n",
       "      <td>1.97</td>\n",
       "      <td>NaN</td>\n",
       "      <td>NaN</td>\n",
       "      <td>1.92</td>\n",
       "      <td>1.95</td>\n",
       "    </tr>\n",
       "    <tr>\n",
       "      <th>1</th>\n",
       "      <td>E0</td>\n",
       "      <td>12/08/2023</td>\n",
       "      <td>12:30</td>\n",
       "      <td>Arsenal</td>\n",
       "      <td>Nott'm Forest</td>\n",
       "      <td>2</td>\n",
       "      <td>1</td>\n",
       "      <td>H</td>\n",
       "      <td>2</td>\n",
       "      <td>0</td>\n",
       "      <td>...</td>\n",
       "      <td>2.63</td>\n",
       "      <td>-2.00</td>\n",
       "      <td>1.95</td>\n",
       "      <td>1.98</td>\n",
       "      <td>1.93</td>\n",
       "      <td>1.97</td>\n",
       "      <td>2.01</td>\n",
       "      <td>2.09</td>\n",
       "      <td>1.95</td>\n",
       "      <td>1.92</td>\n",
       "    </tr>\n",
       "    <tr>\n",
       "      <th>2</th>\n",
       "      <td>E0</td>\n",
       "      <td>12/08/2023</td>\n",
       "      <td>15:00</td>\n",
       "      <td>Bournemouth</td>\n",
       "      <td>West Ham</td>\n",
       "      <td>1</td>\n",
       "      <td>1</td>\n",
       "      <td>D</td>\n",
       "      <td>0</td>\n",
       "      <td>0</td>\n",
       "      <td>...</td>\n",
       "      <td>2.12</td>\n",
       "      <td>0.00</td>\n",
       "      <td>2.02</td>\n",
       "      <td>1.91</td>\n",
       "      <td>2.01</td>\n",
       "      <td>1.92</td>\n",
       "      <td>2.06</td>\n",
       "      <td>1.96</td>\n",
       "      <td>1.96</td>\n",
       "      <td>1.91</td>\n",
       "    </tr>\n",
       "    <tr>\n",
       "      <th>3</th>\n",
       "      <td>E0</td>\n",
       "      <td>12/08/2023</td>\n",
       "      <td>15:00</td>\n",
       "      <td>Brighton</td>\n",
       "      <td>Luton</td>\n",
       "      <td>4</td>\n",
       "      <td>1</td>\n",
       "      <td>H</td>\n",
       "      <td>1</td>\n",
       "      <td>0</td>\n",
       "      <td>...</td>\n",
       "      <td>2.48</td>\n",
       "      <td>-1.75</td>\n",
       "      <td>2.01</td>\n",
       "      <td>1.92</td>\n",
       "      <td>2.00</td>\n",
       "      <td>1.91</td>\n",
       "      <td>2.14</td>\n",
       "      <td>1.93</td>\n",
       "      <td>2.00</td>\n",
       "      <td>1.86</td>\n",
       "    </tr>\n",
       "    <tr>\n",
       "      <th>4</th>\n",
       "      <td>E0</td>\n",
       "      <td>12/08/2023</td>\n",
       "      <td>15:00</td>\n",
       "      <td>Everton</td>\n",
       "      <td>Fulham</td>\n",
       "      <td>0</td>\n",
       "      <td>1</td>\n",
       "      <td>A</td>\n",
       "      <td>0</td>\n",
       "      <td>0</td>\n",
       "      <td>...</td>\n",
       "      <td>1.71</td>\n",
       "      <td>-0.25</td>\n",
       "      <td>2.06</td>\n",
       "      <td>1.87</td>\n",
       "      <td>2.04</td>\n",
       "      <td>1.88</td>\n",
       "      <td>2.08</td>\n",
       "      <td>1.99</td>\n",
       "      <td>1.98</td>\n",
       "      <td>1.88</td>\n",
       "    </tr>\n",
       "  </tbody>\n",
       "</table>\n",
       "<p>5 rows × 106 columns</p>\n",
       "</div>"
      ],
      "text/plain": [
       "  Div        Date   Time     HomeTeam       AwayTeam  FTHG  FTAG FTR  HTHG  \\\n",
       "0  E0  11/08/2023  20:00      Burnley       Man City     0     3   A     0   \n",
       "1  E0  12/08/2023  12:30      Arsenal  Nott'm Forest     2     1   H     2   \n",
       "2  E0  12/08/2023  15:00  Bournemouth       West Ham     1     1   D     0   \n",
       "3  E0  12/08/2023  15:00     Brighton          Luton     4     1   H     1   \n",
       "4  E0  12/08/2023  15:00      Everton         Fulham     0     1   A     0   \n",
       "\n",
       "   HTAG  ... AvgC<2.5  AHCh  B365CAHH  B365CAHA  PCAHH  PCAHA  MaxCAHH  \\\n",
       "0     2  ...     2.28  1.50      1.95      1.98   1.95   1.97      NaN   \n",
       "1     0  ...     2.63 -2.00      1.95      1.98   1.93   1.97     2.01   \n",
       "2     0  ...     2.12  0.00      2.02      1.91   2.01   1.92     2.06   \n",
       "3     0  ...     2.48 -1.75      2.01      1.92   2.00   1.91     2.14   \n",
       "4     0  ...     1.71 -0.25      2.06      1.87   2.04   1.88     2.08   \n",
       "\n",
       "   MaxCAHA  AvgCAHH  AvgCAHA  \n",
       "0      NaN     1.92     1.95  \n",
       "1     2.09     1.95     1.92  \n",
       "2     1.96     1.96     1.91  \n",
       "3     1.93     2.00     1.86  \n",
       "4     1.99     1.98     1.88  \n",
       "\n",
       "[5 rows x 106 columns]"
      ]
     },
     "execution_count": 7,
     "metadata": {},
     "output_type": "execute_result"
    }
   ],
   "source": [
    "df = pd.read_csv('PL23.csv')\n",
    "df.head()"
   ]
  },
  {
   "cell_type": "code",
   "execution_count": 8,
   "metadata": {},
   "outputs": [
    {
     "name": "stdout",
     "output_type": "stream",
     "text": [
      "<class 'pandas.core.frame.DataFrame'>\n",
      "RangeIndex: 380 entries, 0 to 379\n",
      "Columns: 106 entries, Div to AvgCAHA\n",
      "dtypes: float64(82), int64(16), object(8)\n",
      "memory usage: 314.8+ KB\n"
     ]
    }
   ],
   "source": [
    "df.info()"
   ]
  },
  {
   "cell_type": "markdown",
   "metadata": {},
   "source": [
    "# Pré-processamento dos dados"
   ]
  },
  {
   "cell_type": "markdown",
   "metadata": {},
   "source": [
    "Removemos todas as colunas relacionadas a apostas menos as médias, máximos e mínimos. \n",
    "Removemos também relacionadas a divisão da partida, data e hora."
   ]
  },
  {
   "cell_type": "code",
   "execution_count": 9,
   "metadata": {},
   "outputs": [
    {
     "data": {
      "text/html": [
       "<div>\n",
       "<style scoped>\n",
       "    .dataframe tbody tr th:only-of-type {\n",
       "        vertical-align: middle;\n",
       "    }\n",
       "\n",
       "    .dataframe tbody tr th {\n",
       "        vertical-align: top;\n",
       "    }\n",
       "\n",
       "    .dataframe thead th {\n",
       "        text-align: right;\n",
       "    }\n",
       "</style>\n",
       "<table border=\"1\" class=\"dataframe\">\n",
       "  <thead>\n",
       "    <tr style=\"text-align: right;\">\n",
       "      <th></th>\n",
       "      <th>HomeTeam</th>\n",
       "      <th>AwayTeam</th>\n",
       "      <th>FTHG</th>\n",
       "      <th>FTAG</th>\n",
       "      <th>FTR</th>\n",
       "      <th>HTHG</th>\n",
       "      <th>HTAG</th>\n",
       "      <th>HTR</th>\n",
       "      <th>HS</th>\n",
       "      <th>AS</th>\n",
       "      <th>...</th>\n",
       "      <th>HY</th>\n",
       "      <th>AY</th>\n",
       "      <th>HR</th>\n",
       "      <th>AR</th>\n",
       "      <th>MaxH</th>\n",
       "      <th>MaxD</th>\n",
       "      <th>MaxA</th>\n",
       "      <th>AvgH</th>\n",
       "      <th>AvgD</th>\n",
       "      <th>AvgA</th>\n",
       "    </tr>\n",
       "  </thead>\n",
       "  <tbody>\n",
       "    <tr>\n",
       "      <th>0</th>\n",
       "      <td>Burnley</td>\n",
       "      <td>Man City</td>\n",
       "      <td>0</td>\n",
       "      <td>3</td>\n",
       "      <td>A</td>\n",
       "      <td>0</td>\n",
       "      <td>2</td>\n",
       "      <td>A</td>\n",
       "      <td>6</td>\n",
       "      <td>17</td>\n",
       "      <td>...</td>\n",
       "      <td>0</td>\n",
       "      <td>0</td>\n",
       "      <td>1</td>\n",
       "      <td>0</td>\n",
       "      <td>9.50</td>\n",
       "      <td>5.68</td>\n",
       "      <td>1.39</td>\n",
       "      <td>9.02</td>\n",
       "      <td>5.35</td>\n",
       "      <td>1.35</td>\n",
       "    </tr>\n",
       "    <tr>\n",
       "      <th>1</th>\n",
       "      <td>Arsenal</td>\n",
       "      <td>Nott'm Forest</td>\n",
       "      <td>2</td>\n",
       "      <td>1</td>\n",
       "      <td>H</td>\n",
       "      <td>2</td>\n",
       "      <td>0</td>\n",
       "      <td>H</td>\n",
       "      <td>15</td>\n",
       "      <td>6</td>\n",
       "      <td>...</td>\n",
       "      <td>2</td>\n",
       "      <td>2</td>\n",
       "      <td>0</td>\n",
       "      <td>0</td>\n",
       "      <td>1.21</td>\n",
       "      <td>8.50</td>\n",
       "      <td>17.50</td>\n",
       "      <td>1.18</td>\n",
       "      <td>7.64</td>\n",
       "      <td>15.67</td>\n",
       "    </tr>\n",
       "    <tr>\n",
       "      <th>2</th>\n",
       "      <td>Bournemouth</td>\n",
       "      <td>West Ham</td>\n",
       "      <td>1</td>\n",
       "      <td>1</td>\n",
       "      <td>D</td>\n",
       "      <td>0</td>\n",
       "      <td>0</td>\n",
       "      <td>D</td>\n",
       "      <td>14</td>\n",
       "      <td>16</td>\n",
       "      <td>...</td>\n",
       "      <td>1</td>\n",
       "      <td>4</td>\n",
       "      <td>0</td>\n",
       "      <td>0</td>\n",
       "      <td>2.80</td>\n",
       "      <td>3.62</td>\n",
       "      <td>2.75</td>\n",
       "      <td>2.69</td>\n",
       "      <td>3.44</td>\n",
       "      <td>2.64</td>\n",
       "    </tr>\n",
       "    <tr>\n",
       "      <th>3</th>\n",
       "      <td>Brighton</td>\n",
       "      <td>Luton</td>\n",
       "      <td>4</td>\n",
       "      <td>1</td>\n",
       "      <td>H</td>\n",
       "      <td>1</td>\n",
       "      <td>0</td>\n",
       "      <td>H</td>\n",
       "      <td>27</td>\n",
       "      <td>9</td>\n",
       "      <td>...</td>\n",
       "      <td>2</td>\n",
       "      <td>2</td>\n",
       "      <td>0</td>\n",
       "      <td>0</td>\n",
       "      <td>1.36</td>\n",
       "      <td>6.00</td>\n",
       "      <td>10.50</td>\n",
       "      <td>1.33</td>\n",
       "      <td>5.52</td>\n",
       "      <td>9.61</td>\n",
       "    </tr>\n",
       "    <tr>\n",
       "      <th>4</th>\n",
       "      <td>Everton</td>\n",
       "      <td>Fulham</td>\n",
       "      <td>0</td>\n",
       "      <td>1</td>\n",
       "      <td>A</td>\n",
       "      <td>0</td>\n",
       "      <td>0</td>\n",
       "      <td>D</td>\n",
       "      <td>19</td>\n",
       "      <td>9</td>\n",
       "      <td>...</td>\n",
       "      <td>0</td>\n",
       "      <td>2</td>\n",
       "      <td>0</td>\n",
       "      <td>0</td>\n",
       "      <td>2.30</td>\n",
       "      <td>3.57</td>\n",
       "      <td>3.45</td>\n",
       "      <td>2.24</td>\n",
       "      <td>3.43</td>\n",
       "      <td>3.30</td>\n",
       "    </tr>\n",
       "  </tbody>\n",
       "</table>\n",
       "<p>5 rows × 26 columns</p>\n",
       "</div>"
      ],
      "text/plain": [
       "      HomeTeam       AwayTeam  FTHG  FTAG FTR  HTHG  HTAG HTR  HS  AS  ...  \\\n",
       "0      Burnley       Man City     0     3   A     0     2   A   6  17  ...   \n",
       "1      Arsenal  Nott'm Forest     2     1   H     2     0   H  15   6  ...   \n",
       "2  Bournemouth       West Ham     1     1   D     0     0   D  14  16  ...   \n",
       "3     Brighton          Luton     4     1   H     1     0   H  27   9  ...   \n",
       "4      Everton         Fulham     0     1   A     0     0   D  19   9  ...   \n",
       "\n",
       "   HY  AY  HR  AR  MaxH  MaxD   MaxA  AvgH  AvgD   AvgA  \n",
       "0   0   0   1   0  9.50  5.68   1.39  9.02  5.35   1.35  \n",
       "1   2   2   0   0  1.21  8.50  17.50  1.18  7.64  15.67  \n",
       "2   1   4   0   0  2.80  3.62   2.75  2.69  3.44   2.64  \n",
       "3   2   2   0   0  1.36  6.00  10.50  1.33  5.52   9.61  \n",
       "4   0   2   0   0  2.30  3.57   3.45  2.24  3.43   3.30  \n",
       "\n",
       "[5 rows x 26 columns]"
      ]
     },
     "execution_count": 9,
     "metadata": {},
     "output_type": "execute_result"
    }
   ],
   "source": [
    "\n",
    "unused_columns = ['Div','Date','Time','Referee','B365>2.5','B365<2.5','P>2.5', 'P<2.5', 'Max>2.5', 'Max<2.5', 'Avg>2.5', 'Avg<2.5', 'AHh', 'B365AHH', 'B365AHA', 'PAHH', 'PAHA', 'MaxAHH', 'MaxAHA', 'AvgAHH', 'AvgAHA', 'B365CH', 'B365CD', 'B365CA', 'BWCH', 'BWCD', 'BWCA', 'IWCH', 'IWCD', 'IWCA', 'PSCH', 'PSCD', 'PSCA', 'WHCH', 'WHCD', 'WHCA', 'VCCH', 'VCCD', 'VCCA', 'MaxCH', 'MaxCD', 'MaxCA', 'AvgCH', 'AvgCD', 'AvgCA', 'B365C>2.5', 'B365C<2.5', 'PC>2.5', 'PC<2.5', 'MaxC>2.5', 'MaxC<2.5', 'AvgC>2.5', 'AvgC<2.5', 'AHCh', 'B365CAHH', 'B365CAHA', 'PCAHH', 'PCAHA', 'MaxCAHH', 'MaxCAHA', 'AvgCAHH', 'AvgCAHA','B365H','B365D','B365A', 'BWH','BWD','BWA','IWH','IWD','IWA','PSH','PSD','PSA','WHH','WHD','WHA','VCH','VCD','VCA']\n",
    "df.drop(unused_columns, axis=1, inplace=True)\n",
    "df.head()\n"
   ]
  },
  {
   "cell_type": "markdown",
   "metadata": {},
   "source": [
    "Tratamentos de dados ausentes"
   ]
  },
  {
   "cell_type": "code",
   "execution_count": 10,
   "metadata": {},
   "outputs": [
    {
     "name": "stdout",
     "output_type": "stream",
     "text": [
      "Verificando valores nulos:\n"
     ]
    },
    {
     "data": {
      "text/plain": [
       "False"
      ]
     },
     "execution_count": 10,
     "metadata": {},
     "output_type": "execute_result"
    }
   ],
   "source": [
    "print('Verificando valores nulos:')\n",
    "df.isnull().values.any()\n"
   ]
  },
  {
   "cell_type": "markdown",
   "metadata": {},
   "source": [
    "Definição dos tipos dos dados."
   ]
  },
  {
   "cell_type": "code",
   "execution_count": 11,
   "metadata": {},
   "outputs": [
    {
     "name": "stdout",
     "output_type": "stream",
     "text": [
      "HomeTeam     object\n",
      "AwayTeam     object\n",
      "FTHG          int64\n",
      "FTAG          int64\n",
      "FTR          object\n",
      "HTHG          int64\n",
      "HTAG          int64\n",
      "HTR          object\n",
      "HS            int64\n",
      "AS            int64\n",
      "HST           int64\n",
      "AST           int64\n",
      "HF            int64\n",
      "AF            int64\n",
      "HC            int64\n",
      "AC            int64\n",
      "HY            int64\n",
      "AY            int64\n",
      "HR            int64\n",
      "AR            int64\n",
      "MaxH        float64\n",
      "MaxD        float64\n",
      "MaxA        float64\n",
      "AvgH        float64\n",
      "AvgD        float64\n",
      "AvgA        float64\n",
      "dtype: object\n"
     ]
    }
   ],
   "source": [
    "print(df.dtypes)"
   ]
  },
  {
   "cell_type": "markdown",
   "metadata": {},
   "source": [
    "# Normalização"
   ]
  },
  {
   "cell_type": "code",
   "execution_count": 12,
   "metadata": {},
   "outputs": [],
   "source": [
    "scaler = MinMaxScaler(feature_range=(0, 1))\n",
    "df['AvgH_normalized'] = scaler.fit_transform(df[['AvgH']])\n",
    "df['AvgA_normalized'] = scaler.fit_transform(df[['AvgA']])\n",
    "df['AvgD_normalized'] = scaler.fit_transform(df[['AvgD']])"
   ]
  },
  {
   "cell_type": "markdown",
   "metadata": {},
   "source": [
    "# Limpeza de dados\n",
    "## Univariado"
   ]
  },
  {
   "cell_type": "code",
   "execution_count": 13,
   "metadata": {},
   "outputs": [
    {
     "data": {
      "text/plain": [
       "count    380.000000\n",
       "mean       2.953737\n",
       "std        2.337089\n",
       "min        1.080000\n",
       "25%        1.640000\n",
       "50%        2.205000\n",
       "75%        3.300000\n",
       "max       18.020000\n",
       "Name: AvgH, dtype: float64"
      ]
     },
     "execution_count": 13,
     "metadata": {},
     "output_type": "execute_result"
    }
   ],
   "source": [
    "df['AvgH'].describe()\n"
   ]
  },
  {
   "cell_type": "code",
   "execution_count": 14,
   "metadata": {},
   "outputs": [
    {
     "data": {
      "text/plain": [
       "count    380.000000\n",
       "mean       0.110610\n",
       "std        0.137963\n",
       "min        0.000000\n",
       "25%        0.033058\n",
       "50%        0.066411\n",
       "75%        0.131051\n",
       "max        1.000000\n",
       "Name: AvgH_normalized, dtype: float64"
      ]
     },
     "execution_count": 14,
     "metadata": {},
     "output_type": "execute_result"
    }
   ],
   "source": [
    "df['AvgH_normalized'].describe()"
   ]
  },
  {
   "cell_type": "code",
   "execution_count": 15,
   "metadata": {},
   "outputs": [
    {
     "data": {
      "text/plain": [
       "<Axes: >"
      ]
     },
     "execution_count": 15,
     "metadata": {},
     "output_type": "execute_result"
    },
    {
     "data": {
      "image/png": "[encoded data removed]",
      "text/plain": [
       "<Figure size 432x288 with 1 Axes>"
      ]
     },
     "metadata": {
      "needs_background": "light"
     },
     "output_type": "display_data"
    }
   ],
   "source": [
    "df['AvgH'].plot.box()\n"
   ]
  },
  {
   "cell_type": "code",
   "execution_count": 16,
   "metadata": {},
   "outputs": [
    {
     "data": {
      "text/plain": [
       "<Axes: >"
      ]
     },
     "execution_count": 16,
     "metadata": {},
     "output_type": "execute_result"
    },
    {
     "data": {
      "image/png": "[encoded data removed]",
      "text/plain": [
       "<Figure size 432x288 with 1 Axes>"
      ]
     },
     "metadata": {
      "needs_background": "light"
     },
     "output_type": "display_data"
    }
   ],
   "source": [
    "df['AvgH_normalized'].plot.box()"
   ]
  },
  {
   "cell_type": "code",
   "execution_count": 17,
   "metadata": {},
   "outputs": [
    {
     "data": {
      "text/plain": [
       "<Axes: >"
      ]
     },
     "execution_count": 17,
     "metadata": {},
     "output_type": "execute_result"
    },
    {
     "data": {
      "image/png": "[encoded data removed]",
      "text/plain": [
       "<Figure size 432x288 with 1 Axes>"
      ]
     },
     "metadata": {
      "needs_background": "light"
     },
     "output_type": "display_data"
    }
   ],
   "source": [
    "df['AvgH_normalized'].hist()"
   ]
  },
  {
   "cell_type": "code",
   "execution_count": 18,
   "metadata": {},
   "outputs": [
    {
     "name": "stdout",
     "output_type": "stream",
     "text": [
      "Quantidade de outliers: 31\n"
     ]
    }
   ],
   "source": [
    "def detect_outliers_zscore_robust(data, threshold=3.5):\n",
    "    if len(data) == 1:\n",
    "        return np.array([False])\n",
    "    \n",
    "    median = np.median(data)\n",
    "    mad = median_abs_deviation(data)\n",
    "    z_scores = 0.6745 * (data - median) / mad\n",
    "    outliers = np.abs(z_scores) > threshold\n",
    "    return outliers\n",
    "\n",
    "outliers = detect_outliers_zscore_robust(df['AvgH_normalized'])\n",
    "print('Quantidade de outliers:', outliers.sum())"
   ]
  },
  {
   "cell_type": "code",
   "execution_count": 19,
   "metadata": {},
   "outputs": [
    {
     "data": {
      "text/plain": [
       "<Axes: >"
      ]
     },
     "execution_count": 19,
     "metadata": {},
     "output_type": "execute_result"
    },
    {
     "data": {
      "image/png": "[encoded data removed]",
      "text/plain": [
       "<Figure size 432x288 with 1 Axes>"
      ]
     },
     "metadata": {
      "needs_background": "light"
     },
     "output_type": "display_data"
    }
   ],
   "source": [
    "df_filtered = df[~outliers]\n",
    "df_filtered['AvgH_normalized'].hist()"
   ]
  },
  {
   "cell_type": "markdown",
   "metadata": {},
   "source": [
    "## Bivariado"
   ]
  },
  {
   "cell_type": "code",
   "execution_count": 20,
   "metadata": {},
   "outputs": [
    {
     "data": {
      "text/html": [
       "<div>\n",
       "<style scoped>\n",
       "    .dataframe tbody tr th:only-of-type {\n",
       "        vertical-align: middle;\n",
       "    }\n",
       "\n",
       "    .dataframe tbody tr th {\n",
       "        vertical-align: top;\n",
       "    }\n",
       "\n",
       "    .dataframe thead th {\n",
       "        text-align: right;\n",
       "    }\n",
       "</style>\n",
       "<table border=\"1\" class=\"dataframe\">\n",
       "  <thead>\n",
       "    <tr style=\"text-align: right;\">\n",
       "      <th></th>\n",
       "      <th>Column 1</th>\n",
       "      <th>Column 2</th>\n",
       "      <th>Correlation</th>\n",
       "    </tr>\n",
       "  </thead>\n",
       "  <tbody>\n",
       "    <tr>\n",
       "      <th>0</th>\n",
       "      <td>AvgA</td>\n",
       "      <td>AvgA_normalized</td>\n",
       "      <td>1.000000</td>\n",
       "    </tr>\n",
       "    <tr>\n",
       "      <th>1</th>\n",
       "      <td>AvgA_normalized</td>\n",
       "      <td>AvgA</td>\n",
       "      <td>1.000000</td>\n",
       "    </tr>\n",
       "    <tr>\n",
       "      <th>2</th>\n",
       "      <td>AvgD_normalized</td>\n",
       "      <td>AvgD</td>\n",
       "      <td>1.000000</td>\n",
       "    </tr>\n",
       "    <tr>\n",
       "      <th>3</th>\n",
       "      <td>AvgH_normalized</td>\n",
       "      <td>AvgH</td>\n",
       "      <td>1.000000</td>\n",
       "    </tr>\n",
       "    <tr>\n",
       "      <th>4</th>\n",
       "      <td>AvgH</td>\n",
       "      <td>AvgH_normalized</td>\n",
       "      <td>1.000000</td>\n",
       "    </tr>\n",
       "    <tr>\n",
       "      <th>5</th>\n",
       "      <td>AvgD</td>\n",
       "      <td>AvgD_normalized</td>\n",
       "      <td>1.000000</td>\n",
       "    </tr>\n",
       "    <tr>\n",
       "      <th>6</th>\n",
       "      <td>AvgH_normalized</td>\n",
       "      <td>MaxH</td>\n",
       "      <td>0.998475</td>\n",
       "    </tr>\n",
       "    <tr>\n",
       "      <th>7</th>\n",
       "      <td>MaxH</td>\n",
       "      <td>AvgH_normalized</td>\n",
       "      <td>0.998475</td>\n",
       "    </tr>\n",
       "    <tr>\n",
       "      <th>8</th>\n",
       "      <td>MaxH</td>\n",
       "      <td>AvgH</td>\n",
       "      <td>0.998475</td>\n",
       "    </tr>\n",
       "    <tr>\n",
       "      <th>9</th>\n",
       "      <td>AvgH</td>\n",
       "      <td>MaxH</td>\n",
       "      <td>0.998475</td>\n",
       "    </tr>\n",
       "    <tr>\n",
       "      <th>10</th>\n",
       "      <td>AvgD</td>\n",
       "      <td>MaxD</td>\n",
       "      <td>0.996005</td>\n",
       "    </tr>\n",
       "    <tr>\n",
       "      <th>11</th>\n",
       "      <td>MaxD</td>\n",
       "      <td>AvgD</td>\n",
       "      <td>0.996005</td>\n",
       "    </tr>\n",
       "    <tr>\n",
       "      <th>12</th>\n",
       "      <td>MaxD</td>\n",
       "      <td>AvgD_normalized</td>\n",
       "      <td>0.996005</td>\n",
       "    </tr>\n",
       "    <tr>\n",
       "      <th>13</th>\n",
       "      <td>AvgD_normalized</td>\n",
       "      <td>MaxD</td>\n",
       "      <td>0.996005</td>\n",
       "    </tr>\n",
       "    <tr>\n",
       "      <th>14</th>\n",
       "      <td>MaxA</td>\n",
       "      <td>AvgA_normalized</td>\n",
       "      <td>0.994895</td>\n",
       "    </tr>\n",
       "    <tr>\n",
       "      <th>15</th>\n",
       "      <td>AvgA_normalized</td>\n",
       "      <td>MaxA</td>\n",
       "      <td>0.994895</td>\n",
       "    </tr>\n",
       "    <tr>\n",
       "      <th>16</th>\n",
       "      <td>MaxA</td>\n",
       "      <td>AvgA</td>\n",
       "      <td>0.994895</td>\n",
       "    </tr>\n",
       "    <tr>\n",
       "      <th>17</th>\n",
       "      <td>AvgA</td>\n",
       "      <td>MaxA</td>\n",
       "      <td>0.994895</td>\n",
       "    </tr>\n",
       "    <tr>\n",
       "      <th>18</th>\n",
       "      <td>MaxA</td>\n",
       "      <td>MaxD</td>\n",
       "      <td>0.864802</td>\n",
       "    </tr>\n",
       "    <tr>\n",
       "      <th>19</th>\n",
       "      <td>MaxD</td>\n",
       "      <td>MaxA</td>\n",
       "      <td>0.864802</td>\n",
       "    </tr>\n",
       "    <tr>\n",
       "      <th>20</th>\n",
       "      <td>AvgD_normalized</td>\n",
       "      <td>MaxA</td>\n",
       "      <td>0.855440</td>\n",
       "    </tr>\n",
       "    <tr>\n",
       "      <th>21</th>\n",
       "      <td>MaxA</td>\n",
       "      <td>AvgD_normalized</td>\n",
       "      <td>0.855440</td>\n",
       "    </tr>\n",
       "    <tr>\n",
       "      <th>22</th>\n",
       "      <td>AvgD</td>\n",
       "      <td>MaxA</td>\n",
       "      <td>0.855440</td>\n",
       "    </tr>\n",
       "    <tr>\n",
       "      <th>23</th>\n",
       "      <td>MaxA</td>\n",
       "      <td>AvgD</td>\n",
       "      <td>0.855440</td>\n",
       "    </tr>\n",
       "    <tr>\n",
       "      <th>24</th>\n",
       "      <td>MaxD</td>\n",
       "      <td>AvgA</td>\n",
       "      <td>0.849436</td>\n",
       "    </tr>\n",
       "    <tr>\n",
       "      <th>25</th>\n",
       "      <td>AvgA</td>\n",
       "      <td>MaxD</td>\n",
       "      <td>0.849436</td>\n",
       "    </tr>\n",
       "    <tr>\n",
       "      <th>26</th>\n",
       "      <td>AvgA_normalized</td>\n",
       "      <td>MaxD</td>\n",
       "      <td>0.849436</td>\n",
       "    </tr>\n",
       "    <tr>\n",
       "      <th>27</th>\n",
       "      <td>MaxD</td>\n",
       "      <td>AvgA_normalized</td>\n",
       "      <td>0.849436</td>\n",
       "    </tr>\n",
       "    <tr>\n",
       "      <th>28</th>\n",
       "      <td>AvgA</td>\n",
       "      <td>AvgD</td>\n",
       "      <td>0.842860</td>\n",
       "    </tr>\n",
       "    <tr>\n",
       "      <th>29</th>\n",
       "      <td>AvgD</td>\n",
       "      <td>AvgA</td>\n",
       "      <td>0.842860</td>\n",
       "    </tr>\n",
       "    <tr>\n",
       "      <th>30</th>\n",
       "      <td>AvgA_normalized</td>\n",
       "      <td>AvgD</td>\n",
       "      <td>0.842860</td>\n",
       "    </tr>\n",
       "    <tr>\n",
       "      <th>31</th>\n",
       "      <td>AvgD</td>\n",
       "      <td>AvgA_normalized</td>\n",
       "      <td>0.842860</td>\n",
       "    </tr>\n",
       "    <tr>\n",
       "      <th>32</th>\n",
       "      <td>AvgD_normalized</td>\n",
       "      <td>AvgA_normalized</td>\n",
       "      <td>0.842860</td>\n",
       "    </tr>\n",
       "    <tr>\n",
       "      <th>33</th>\n",
       "      <td>AvgA_normalized</td>\n",
       "      <td>AvgD_normalized</td>\n",
       "      <td>0.842860</td>\n",
       "    </tr>\n",
       "    <tr>\n",
       "      <th>34</th>\n",
       "      <td>AvgA</td>\n",
       "      <td>AvgD_normalized</td>\n",
       "      <td>0.842860</td>\n",
       "    </tr>\n",
       "    <tr>\n",
       "      <th>35</th>\n",
       "      <td>AvgD_normalized</td>\n",
       "      <td>AvgA</td>\n",
       "      <td>0.842860</td>\n",
       "    </tr>\n",
       "    <tr>\n",
       "      <th>36</th>\n",
       "      <td>HST</td>\n",
       "      <td>HS</td>\n",
       "      <td>0.711912</td>\n",
       "    </tr>\n",
       "    <tr>\n",
       "      <th>37</th>\n",
       "      <td>HS</td>\n",
       "      <td>HST</td>\n",
       "      <td>0.711912</td>\n",
       "    </tr>\n",
       "    <tr>\n",
       "      <th>38</th>\n",
       "      <td>FTAG</td>\n",
       "      <td>HTAG</td>\n",
       "      <td>0.702223</td>\n",
       "    </tr>\n",
       "    <tr>\n",
       "      <th>39</th>\n",
       "      <td>HTAG</td>\n",
       "      <td>FTAG</td>\n",
       "      <td>0.702223</td>\n",
       "    </tr>\n",
       "    <tr>\n",
       "      <th>40</th>\n",
       "      <td>AS</td>\n",
       "      <td>AST</td>\n",
       "      <td>0.700829</td>\n",
       "    </tr>\n",
       "    <tr>\n",
       "      <th>41</th>\n",
       "      <td>AST</td>\n",
       "      <td>AS</td>\n",
       "      <td>0.700829</td>\n",
       "    </tr>\n",
       "    <tr>\n",
       "      <th>42</th>\n",
       "      <td>HTHG</td>\n",
       "      <td>FTHG</td>\n",
       "      <td>0.670918</td>\n",
       "    </tr>\n",
       "    <tr>\n",
       "      <th>43</th>\n",
       "      <td>FTHG</td>\n",
       "      <td>HTHG</td>\n",
       "      <td>0.670918</td>\n",
       "    </tr>\n",
       "    <tr>\n",
       "      <th>44</th>\n",
       "      <td>AST</td>\n",
       "      <td>FTAG</td>\n",
       "      <td>0.634587</td>\n",
       "    </tr>\n",
       "    <tr>\n",
       "      <th>45</th>\n",
       "      <td>FTAG</td>\n",
       "      <td>AST</td>\n",
       "      <td>0.634587</td>\n",
       "    </tr>\n",
       "    <tr>\n",
       "      <th>46</th>\n",
       "      <td>AS</td>\n",
       "      <td>AC</td>\n",
       "      <td>0.598167</td>\n",
       "    </tr>\n",
       "    <tr>\n",
       "      <th>47</th>\n",
       "      <td>AC</td>\n",
       "      <td>AS</td>\n",
       "      <td>0.598167</td>\n",
       "    </tr>\n",
       "    <tr>\n",
       "      <th>48</th>\n",
       "      <td>FTHG</td>\n",
       "      <td>HST</td>\n",
       "      <td>0.589386</td>\n",
       "    </tr>\n",
       "    <tr>\n",
       "      <th>49</th>\n",
       "      <td>HST</td>\n",
       "      <td>FTHG</td>\n",
       "      <td>0.589386</td>\n",
       "    </tr>\n",
       "  </tbody>\n",
       "</table>\n",
       "</div>"
      ],
      "text/plain": [
       "           Column 1         Column 2  Correlation\n",
       "0              AvgA  AvgA_normalized     1.000000\n",
       "1   AvgA_normalized             AvgA     1.000000\n",
       "2   AvgD_normalized             AvgD     1.000000\n",
       "3   AvgH_normalized             AvgH     1.000000\n",
       "4              AvgH  AvgH_normalized     1.000000\n",
       "5              AvgD  AvgD_normalized     1.000000\n",
       "6   AvgH_normalized             MaxH     0.998475\n",
       "7              MaxH  AvgH_normalized     0.998475\n",
       "8              MaxH             AvgH     0.998475\n",
       "9              AvgH             MaxH     0.998475\n",
       "10             AvgD             MaxD     0.996005\n",
       "11             MaxD             AvgD     0.996005\n",
       "12             MaxD  AvgD_normalized     0.996005\n",
       "13  AvgD_normalized             MaxD     0.996005\n",
       "14             MaxA  AvgA_normalized     0.994895\n",
       "15  AvgA_normalized             MaxA     0.994895\n",
       "16             MaxA             AvgA     0.994895\n",
       "17             AvgA             MaxA     0.994895\n",
       "18             MaxA             MaxD     0.864802\n",
       "19             MaxD             MaxA     0.864802\n",
       "20  AvgD_normalized             MaxA     0.855440\n",
       "21             MaxA  AvgD_normalized     0.855440\n",
       "22             AvgD             MaxA     0.855440\n",
       "23             MaxA             AvgD     0.855440\n",
       "24             MaxD             AvgA     0.849436\n",
       "25             AvgA             MaxD     0.849436\n",
       "26  AvgA_normalized             MaxD     0.849436\n",
       "27             MaxD  AvgA_normalized     0.849436\n",
       "28             AvgA             AvgD     0.842860\n",
       "29             AvgD             AvgA     0.842860\n",
       "30  AvgA_normalized             AvgD     0.842860\n",
       "31             AvgD  AvgA_normalized     0.842860\n",
       "32  AvgD_normalized  AvgA_normalized     0.842860\n",
       "33  AvgA_normalized  AvgD_normalized     0.842860\n",
       "34             AvgA  AvgD_normalized     0.842860\n",
       "35  AvgD_normalized             AvgA     0.842860\n",
       "36              HST               HS     0.711912\n",
       "37               HS              HST     0.711912\n",
       "38             FTAG             HTAG     0.702223\n",
       "39             HTAG             FTAG     0.702223\n",
       "40               AS              AST     0.700829\n",
       "41              AST               AS     0.700829\n",
       "42             HTHG             FTHG     0.670918\n",
       "43             FTHG             HTHG     0.670918\n",
       "44              AST             FTAG     0.634587\n",
       "45             FTAG              AST     0.634587\n",
       "46               AS               AC     0.598167\n",
       "47               AC               AS     0.598167\n",
       "48             FTHG              HST     0.589386\n",
       "49              HST             FTHG     0.589386"
      ]
     },
     "execution_count": 20,
     "metadata": {},
     "output_type": "execute_result"
    },
    {
     "data": {
      "image/png": "[encoded data removed]",
      "text/plain": [
       "<Figure size 432x288 with 2 Axes>"
      ]
     },
     "metadata": {
      "needs_background": "light"
     },
     "output_type": "display_data"
    }
   ],
   "source": [
    "# Selecionar apenas as colunas numéricas\n",
    "numeric_columns = df.select_dtypes(include=['float64', 'int64'])\n",
    "\n",
    "# Criar a matriz de correlação\n",
    "correlation_matrix = numeric_columns.corr()\n",
    "\n",
    "# Plotar a matriz de correlação\n",
    "sns.heatmap(correlation_matrix, annot=False, cmap='coolwarm')\n",
    "\n",
    "# Identificar as colunas com o maior grau de correlação\n",
    "max_correlation = correlation_matrix.abs().unstack().sort_values(ascending=False)\n",
    "max_correlation = max_correlation[max_correlation < 1]  # Excluir a correlação perfeita (1.0)\n",
    "max_correlation = max_correlation.reset_index()\n",
    "max_correlation.columns = ['Column 1', 'Column 2', 'Correlation']\n",
    "max_correlation.head(50)"
   ]
  },
  {
   "cell_type": "markdown",
   "metadata": {},
   "source": [
    "A partir da tabela de correlações, identificamos que Chutes ao gol do time da casa e Chutes totais do time da casa eram as duas colunas que envolviam dados do jogo com maior grau de correlação. Por isso, deicidimos analisá-las mais a fundo."
   ]
  },
  {
   "cell_type": "code",
   "execution_count": 21,
   "metadata": {},
   "outputs": [
    {
     "data": {
      "text/plain": [
       "<Axes: xlabel='HS', ylabel='HST'>"
      ]
     },
     "execution_count": 21,
     "metadata": {},
     "output_type": "execute_result"
    },
    {
     "data": {
      "image/png": "[encoded data removed]",
      "text/plain": [
       "<Figure size 432x288 with 1 Axes>"
      ]
     },
     "metadata": {
      "needs_background": "light"
     },
     "output_type": "display_data"
    }
   ],
   "source": [
    "df.plot.scatter(x='HS', y='HST')"
   ]
  },
  {
   "cell_type": "markdown",
   "metadata": {},
   "source": [
    "Removemos os outliers utilizando o método isolation forest."
   ]
  },
  {
   "cell_type": "code",
   "execution_count": 22,
   "metadata": {},
   "outputs": [
    {
     "data": {
      "image/png": "[encoded data removed]",
      "text/plain": [
       "<Figure size 432x288 with 1 Axes>"
      ]
     },
     "metadata": {
      "needs_background": "light"
     },
     "output_type": "display_data"
    }
   ],
   "source": [
    "# Cria um novo DataFrame com as colunas 'HS' e 'HST'\n",
    "df_corr = df[['HS', 'HST']]\n",
    "\n",
    "# Instancia o modelo IsolationForest\n",
    "model = IsolationForest(n_estimators=100, contamination=0.05)\n",
    "\n",
    "# Ajusta o modelo aos dados\n",
    "model.fit(df_corr)\n",
    "\n",
    "# Obtém as previsões de outliers\n",
    "outliers = model.predict(df_corr)\n",
    "\n",
    "# Adiciona a coluna 'Outlier' ao DataFrame original\n",
    "df['Outlier'] = outliers\n",
    "\n",
    "# Remove as linhas onde 'Outlier' é igual a -1\n",
    "df_filtered = df[df['Outlier'] != -1]\n",
    "\n",
    "# Plota o gráfico de correlação entre 'HS' e 'HST' com os outliers removidos\n",
    "plt.scatter(df_filtered['HS'], df_filtered['HST'])\n",
    "plt.xlabel('HS')\n",
    "plt.ylabel('HST')\n",
    "plt.title('Correlação entre HS e HST (Outliers Removidos)')\n",
    "plt.show()"
   ]
  },
  {
   "cell_type": "markdown",
   "metadata": {},
   "source": [
    "Removemos os outliers utilizando o método de Mahalanobis"
   ]
  },
  {
   "cell_type": "code",
   "execution_count": 23,
   "metadata": {},
   "outputs": [
    {
     "data": {
      "text/plain": [
       "<Axes: xlabel='HS', ylabel='HST'>"
      ]
     },
     "execution_count": 23,
     "metadata": {},
     "output_type": "execute_result"
    },
    {
     "data": {
      "image/png": "[encoded data removed]",
      "text/plain": [
       "<Figure size 432x288 with 1 Axes>"
      ]
     },
     "metadata": {
      "needs_background": "light"
     },
     "output_type": "display_data"
    }
   ],
   "source": [
    "# Calcular a matriz de covariância\n",
    "cov_matrix = np.cov(df[['HS', 'HST']].values.T)\n",
    "\n",
    "# Calcular a matriz de inversa da covariância\n",
    "inv_cov_matrix = np.linalg.inv(cov_matrix)\n",
    "\n",
    "# Calcular a média dos pontos\n",
    "mean = np.mean(df[['HS', 'HST']].values, axis=0)\n",
    "\n",
    "# Calcular a distância de Mahalanobis para cada ponto\n",
    "distances = []\n",
    "for point in df[['HS', 'HST']].values:\n",
    "    distance = mahalanobis(point, mean, inv_cov_matrix)\n",
    "    distances.append(distance)\n",
    "\n",
    "# Definir um limite para remover os outliers\n",
    "limit = np.mean(distances) + 3 * np.std(distances)\n",
    "\n",
    "# Remover os outliers\n",
    "df_filtered = df[distances <= limit]\n",
    "\n",
    "# Plotar o gráfico sem os outliers\n",
    "df_filtered.plot.scatter(x='HS', y='HST')"
   ]
  },
  {
   "cell_type": "markdown",
   "metadata": {},
   "source": [
    "## Multivariado\n"
   ]
  },
  {
   "cell_type": "markdown",
   "metadata": {},
   "source": [
    "Quando fizemos a análise anterior tivemos a ideia de que poderia existir uma relação tripla entre as duas variáveis que estávamos analisando e Gols totais dos times da casa, por isso resolvemos analisar também este caso."
   ]
  },
  {
   "cell_type": "code",
   "execution_count": 24,
   "metadata": {},
   "outputs": [
    {
     "data": {
      "text/plain": [
       "<Axes: xlabel='HS', ylabel='HST'>"
      ]
     },
     "execution_count": 24,
     "metadata": {},
     "output_type": "execute_result"
    },
    {
     "data": {
      "image/png": "[encoded data removed]",
      "text/plain": [
       "<Figure size 432x288 with 2 Axes>"
      ]
     },
     "metadata": {
      "needs_background": "light"
     },
     "output_type": "display_data"
    }
   ],
   "source": [
    "df_filtered.plot.scatter(x='HS', y='HST', c='FTHG', colormap='viridis')"
   ]
  },
  {
   "cell_type": "markdown",
   "metadata": {},
   "source": [
    "Removemos os outliers utilizando Elliptic Envelope"
   ]
  },
  {
   "cell_type": "code",
   "execution_count": 25,
   "metadata": {},
   "outputs": [
    {
     "data": {
      "text/plain": [
       "<Axes: xlabel='HS', ylabel='HST'>"
      ]
     },
     "execution_count": 25,
     "metadata": {},
     "output_type": "execute_result"
    },
    {
     "data": {
      "image/png": "[encoded data removed]",
      "text/plain": [
       "<Figure size 432x288 with 2 Axes>"
      ]
     },
     "metadata": {
      "needs_background": "light"
     },
     "output_type": "display_data"
    }
   ],
   "source": [
    "# Create an instance of the EllipticEnvelope class\n",
    "ee = EllipticEnvelope(contamination=0.01)\n",
    "\n",
    "# Fit the EllipticEnvelope to the data\n",
    "ee.fit(df[['HS', 'HST', 'FTHG']])\n",
    "\n",
    "# Predict the outliers in the data\n",
    "outliers = ee.predict(df[['HS', 'HST', 'FTHG']])\n",
    "\n",
    "# Add a new column to the DataFrame indicating whether each row is an outlier\n",
    "df['outlier'] = outliers\n",
    "\n",
    "# Filtrar o DataFrame sem os outliers\n",
    "df_filtered = df[df[\"Outlier\"] == 1]\n",
    "\n",
    "df_filtered.plot.scatter(x='HS', y='HST', c='FTHG', colormap='viridis')"
   ]
  },
  {
   "cell_type": "markdown",
   "metadata": {},
   "source": [
    "# Análises"
   ]
  },
  {
   "cell_type": "markdown",
   "metadata": {},
   "source": [
    "Agora, começamos a fazer análises mais profundas sobre questões que nos geravamo curiosidade como fãs de futebol."
   ]
  },
  {
   "cell_type": "markdown",
   "metadata": {},
   "source": [
    "Primeiramente, queríamos saber em qual metade do jogo eram feitos mais gols, já que existe o mito de que o segundo tempo é sempre o melhor. E talvez seja verdade... Percebemos que o segundo tempo é responsável por uma quantidade considerável maior de gols."
   ]
  },
  {
   "cell_type": "code",
   "execution_count": 26,
   "metadata": {},
   "outputs": [
    {
     "name": "stdout",
     "output_type": "stream",
     "text": [
      "Total de Gols no Primeiro Tempo:  517\n",
      "Total de Gols no Segundo Tempo:  729\n",
      "Total de Gols na Partida:  1246\n",
      "Porcentagem de Gols no Primeiro Tempo: 41.49%\n",
      "Porcentagem de Gols no Segundo Tempo: 58.51%\n"
     ]
    },
    {
     "data": {
      "text/plain": [
       "<BarContainer object of 3 artists>"
      ]
     },
     "execution_count": 26,
     "metadata": {},
     "output_type": "execute_result"
    },
    {
     "data": {
      "image/png": "[encoded data removed]",
      "text/plain": [
       "<Figure size 432x288 with 1 Axes>"
      ]
     },
     "metadata": {
      "needs_background": "light"
     },
     "output_type": "display_data"
    }
   ],
   "source": [
    "total_FTHG = df['FTHG'].sum()\n",
    "total_FTAG = df['FTAG'].sum()\n",
    "\n",
    "total_HTHG = df['HTHG'].sum()\n",
    "total_HTAG = df['HTAG'].sum()\n",
    "\n",
    "total_FTG = total_FTHG + total_FTAG\n",
    "total_HTG = total_HTHG + total_HTAG\n",
    "total_STG = total_FTG - total_HTG\n",
    "\n",
    "\n",
    "print(\"Total de Gols no Primeiro Tempo: \", total_HTG)\n",
    "print(\"Total de Gols no Segundo Tempo: \", total_STG)\n",
    "print(\"Total de Gols na Partida: \", total_FTG)\n",
    "\n",
    "percentage_first_half = (total_HTG / total_FTG) * 100\n",
    "percentage_second_half = (total_STG / total_FTG) * 100\n",
    "\n",
    "print(f\"Porcentagem de Gols no Primeiro Tempo: {percentage_first_half:.2f}%\")\n",
    "print(f\"Porcentagem de Gols no Segundo Tempo: {percentage_second_half:.2f}%\")\n",
    "\n",
    "plt.bar(['Gols 1T', 'Gols 2T', 'Gols Partida'], [total_HTG, total_STG, total_FTG])\n",
    "\n"
   ]
  },
  {
   "cell_type": "markdown",
   "metadata": {},
   "source": [
    "Queríamos saber também se o fator jogar em casa fazia muita diferença. Portanto, descobrimos que o time da casa detém a grande parte das vitórias e só sai com a derrota em menos de 1/3 dos casos."
   ]
  },
  {
   "cell_type": "code",
   "execution_count": 27,
   "metadata": {},
   "outputs": [
    {
     "name": "stdout",
     "output_type": "stream",
     "text": [
      "A porcentagem de valores 'H' na coluna 'FTR' é de 46.05%\n",
      "A porcentagem de valores 'D' na coluna 'FTR' é de 21.58%\n",
      "A porcentagem de valores 'A' na coluna 'FTR' é de 32.37%\n"
     ]
    }
   ],
   "source": [
    "percentage_h = (df['FTR'].value_counts()['H'] / len(df['FTR'])) * 100\n",
    "print(f\"A porcentagem de valores 'H' na coluna 'FTR' é de {percentage_h:.2f}%\")\n",
    "\n",
    "percentage_d = (df['FTR'].value_counts()['D'] / len(df['FTR'])) * 100\n",
    "print(f\"A porcentagem de valores 'D' na coluna 'FTR' é de {percentage_d:.2f}%\")\n",
    "\n",
    "percentage_a = (df['FTR'].value_counts()['A'] / len(df['FTR'])) * 100\n",
    "print(f\"A porcentagem de valores 'A' na coluna 'FTR' é de {percentage_a:.2f}%\")\n",
    "\n"
   ]
  },
  {
   "cell_type": "code",
   "execution_count": 28,
   "metadata": {
    "vscode": {
     "languageId": "ruby"
    }
   },
   "outputs": [
    {
     "data": {
      "image/png": "[encoded data removed]",
      "text/plain": [
       "<Figure size 432x288 with 1 Axes>"
      ]
     },
     "metadata": {},
     "output_type": "display_data"
    }
   ],
   "source": [
    "plt.pie([percentage_h, percentage_d, percentage_a], labels=['Vitória Casa', 'Empate', 'Vitória Fora'])\n",
    "plt.title('Probabilidades de Resultados')\n",
    "\n",
    "\n",
    "plt.show()"
   ]
  },
  {
   "cell_type": "markdown",
   "metadata": {},
   "source": [
    "Agora, gostaríamos de saber a relação entre o resultado favorito de acordo com as casas de aposta (o time com a menor odd) e o resultado da partida. Para isso, comparamos a média de cada opção de aposta (time da casa, empate e time de fora) com o resultado de cada partida e percebemos que o resultado favorito acontece em 58.95% dos casos."
   ]
  },
  {
   "cell_type": "code",
   "execution_count": 29,
   "metadata": {},
   "outputs": [
    {
     "name": "stdout",
     "output_type": "stream",
     "text": [
      "O resultado favorito aconteceu em 224 partidas de 380 possíveis\n",
      "Porcentagem de acontecimento dos resultados favoritos: 58.95%\n"
     ]
    }
   ],
   "source": [
    "df['ExpectedResult'] = df[['AvgH', 'AvgD', 'AvgA']].idxmin(axis=1)\n",
    "\n",
    "mapping = {'AvgH': 'H', 'AvgD': 'D', 'AvgA': 'A'}\n",
    "df['ExpectedResult'] = df['ExpectedResult'].map(mapping)\n",
    "\n",
    "matches = (df['ExpectedResult'] == df['FTR']).sum()\n",
    "\n",
    "print(f\"O resultado favorito aconteceu em {matches} partidas de {len(df)} possíveis\")\n",
    "porc = (matches / len(df)) * 100\n",
    "print(f\"Porcentagem de acontecimento dos resultados favoritos: {porc:.2f}%\")"
   ]
  },
  {
   "cell_type": "markdown",
   "metadata": {},
   "source": [
    "Aqui queríamos simular a situação de uma apostador que sempre aposta 5 reais no resultado favorito. "
   ]
  },
  {
   "cell_type": "code",
   "execution_count": 30,
   "metadata": {},
   "outputs": [],
   "source": [
    "def calculate_amount(row, aposta=5):\n",
    "    odds_mapping = {'H': 'AvgH', 'A': 'AvgA', 'D': 'AvgD'}\n",
    "\n",
    "    if row['ExpectedResult'] == row['FTR']:\n",
    "        return aposta * row[odds_mapping[row['ExpectedResult']]]\n",
    "    else:\n",
    "        return 0\n",
    "\n"
   ]
  },
  {
   "cell_type": "code",
   "execution_count": 31,
   "metadata": {},
   "outputs": [
    {
     "data": {
      "image/png": "[encoded data removed]",
      "text/plain": [
       "<Figure size 432x288 with 1 Axes>"
      ]
     },
     "metadata": {
      "needs_background": "light"
     },
     "output_type": "display_data"
    },
    {
     "name": "stdout",
     "output_type": "stream",
     "text": [
      "Simulações de apostas de 5 reais\n",
      "O usuário realizou 380 apostas.\n",
      "O usuário ganhou 1540.30 reais.\n"
     ]
    }
   ],
   "source": [
    "df['amount'] = df.apply(calculate_amount, axis=1)\n",
    "\n",
    "# Soma cumulativa após cada aposta\n",
    "df['cumulative_amount'] = df['amount'].cumsum()\n",
    "\n",
    "plt.plot(df['cumulative_amount'])\n",
    "plt.xlabel('Partidas')\n",
    "plt.ylabel('Banca')\n",
    "plt.title('Banca do usuário ao longo do tempo')\n",
    "plt.show()\n",
    "\n",
    "\n",
    "print(f'Simulações de apostas de 5 reais')\n",
    "print(f\"O usuário realizou {len(df['cumulative_amount'])} apostas.\")\n",
    "print(f\"O usuário ganhou {df['amount'].sum()-len(df['cumulative_amount']):.2f} reais.\")"
   ]
  },
  {
   "cell_type": "markdown",
   "metadata": {},
   "source": [
    "### Analisamos se o Manchester City tem sempre odds baixas"
   ]
  },
  {
   "cell_type": "markdown",
   "metadata": {},
   "source": [
    "- Hipótese nula -> As odds do Manchester City normalmente são abaixo de 1.5\n",
    "- Hipótese alternativa -> As odds do Manchester City não necessariamente são abaixo de 1.5\n"
   ]
  },
  {
   "cell_type": "code",
   "execution_count": 32,
   "metadata": {},
   "outputs": [
    {
     "data": {
      "image/png": "[encoded data removed]",
      "text/plain": [
       "<Figure size 432x288 with 1 Axes>"
      ]
     },
     "metadata": {
      "needs_background": "light"
     },
     "output_type": "display_data"
    }
   ],
   "source": [
    "# Filtrando para pegar as partidas do Manchester City\n",
    "man_city_df = df[(df['HomeTeam'] == 'Man City') | (df['AwayTeam'] == 'Man City')]\n",
    "\n",
    "odds_h = list(man_city_df.loc[man_city_df['HomeTeam'] == 'Man City', 'AvgH'])\n",
    "odds_a = list(man_city_df.loc[man_city_df['AwayTeam'] == 'Man City', 'AvgA'])\n",
    "\n",
    "odds = odds_h + odds_a\n",
    "\n",
    "max_odds = max(odds)\n",
    "\n",
    "\n",
    "plt.hist(odds, bins=50)\n",
    "\n",
    "plt.xlabel('Odd')\n",
    "plt.ylabel('Frequency')\n",
    "plt.title('Average Odds for Manchester City to Win')\n",
    "plt.axvline(x=max_odds, color='r', linestyle='--', label='Max Odd')\n",
    "plt.legend()\n",
    "plt.show()"
   ]
  },
  {
   "cell_type": "code",
   "execution_count": 33,
   "metadata": {},
   "outputs": [
    {
     "name": "stdout",
     "output_type": "stream",
     "text": [
      "T-statistic Away: -1.8325832713977428\n",
      "P-value Away: 0.07492182094943457\n",
      "Hipótese nula aceita\n"
     ]
    }
   ],
   "source": [
    "null_mean = 1.5\n",
    "alpha = 0.05\n",
    "\n",
    "# One-sample t-test\n",
    "t_statisticA, p_valueA = ttest_1samp(odds, null_mean)\n",
    "\n",
    "print(\"T-statistic Away:\", t_statisticA)\n",
    "print(\"P-value Away:\", p_valueA)\n",
    "\n",
    "if p_valueA < alpha:\n",
    "    print(\"Hipótese nula rejeitada\")\n",
    "else:\n",
    "    print(\"Hipótese nula aceita\")"
   ]
  },
  {
   "cell_type": "markdown",
   "metadata": {},
   "source": [
    "Notamos que pode ser notada a segunda metade de uma gaussiana com pico perto de 1. Notamos assim que o Man City é o favorito na grande maioria de seus jogos."
   ]
  },
  {
   "cell_type": "markdown",
   "metadata": {},
   "source": [
    "### Analisamos também se os times favoritos de acordo com as odds eram os times mandantes.\n",
    "\n",
    "- Hipótese nula -> A média das odds dos times mandantes são iguais as dos times visitantes.\n",
    "- Hipótese alternativa -> As médias são diferentes."
   ]
  },
  {
   "cell_type": "code",
   "execution_count": 34,
   "metadata": {},
   "outputs": [
    {
     "data": {
      "image/png": "[encoded data removed]",
      "text/plain": [
       "<Figure size 432x288 with 1 Axes>"
      ]
     },
     "metadata": {
      "needs_background": "light"
     },
     "output_type": "display_data"
    }
   ],
   "source": [
    "\n",
    "\n",
    "odds_mandantes = list(df['AvgH'])\n",
    "\n",
    "# Criar o gráfico de barras\n",
    "plt.hist(odds_mandantes, bins=50, color='skyblue', edgecolor='black')\n",
    "\n",
    "# Adicionar título e rótulos dos eixos\n",
    "plt.title('Odds dos Times Mandantes')\n",
    "plt.xlabel('odds')\n",
    "plt.xticks([i for i in range(1, 20)])\n",
    "plt.ylabel('jogos')\n",
    "\n",
    "plt.show()\n"
   ]
  },
  {
   "cell_type": "code",
   "execution_count": 35,
   "metadata": {},
   "outputs": [
    {
     "data": {
      "image/png": "[encoded data removed]",
      "text/plain": [
       "<Figure size 432x288 with 1 Axes>"
      ]
     },
     "metadata": {
      "needs_background": "light"
     },
     "output_type": "display_data"
    }
   ],
   "source": [
    "odds_fora = list(df['AvgA'])\n",
    "\n",
    "# Criar o gráfico de barras\n",
    "plt.hist(odds_fora, bins=50, color='skyblue', edgecolor='black')\n",
    "\n",
    "\n",
    "\n",
    "# Adicionar título e rótulos dos eixos\n",
    "plt.title('Odds dos Times Visitantes')\n",
    "plt.xlabel('odds')\n",
    "plt.ylabel('jogos')\n",
    "plt.xticks([i for i in range(1, 30)])\n",
    "\n",
    "plt.show()"
   ]
  },
  {
   "cell_type": "markdown",
   "metadata": {},
   "source": [
    "### Usamos o one-sample t-test para verificar as hipóteses"
   ]
  },
  {
   "cell_type": "code",
   "execution_count": 36,
   "metadata": {},
   "outputs": [
    {
     "name": "stdout",
     "output_type": "stream",
     "text": [
      "Desvio Padrão Mandante: 2.334011733657992\n",
      "Desvio Padrão Visitante: 4.454588733966489\n",
      "\n",
      "T-statistic Home: -14.848902461939243\n",
      "P-value Home: 1.2304328690644427e-39\n",
      "\n",
      "Hipótese nula rejeitada para Mandante\n",
      "\n",
      "T-statistic Away: 7.780182335092746\n",
      "P-value Away: 6.942980287961144e-14\n",
      "\n",
      "Hipótese nula rejeitada para Visitante\n",
      "\n",
      "Média de odds para os times mandantes: 2.9537368421052634\n",
      "Média de odds para os times visitantes: 4.733973684210526\n"
     ]
    }
   ],
   "source": [
    "meanH = df['AvgH'].mean()\n",
    "meanD = df['AvgD'].mean()\n",
    "meanA = df['AvgA'].mean()\n",
    "\n",
    "std_devH = np.std(df['AvgH'])\n",
    "std_devA = np.std(df['AvgA'])\n",
    "\n",
    "print(\"Desvio Padrão Mandante:\", std_devH)\n",
    "print(\"Desvio Padrão Visitante:\", std_devA)\n",
    "\n",
    "# Definir a média da hipótese nula\n",
    "null_mean = meanA\n",
    "\n",
    "alpha = 0.05\n",
    "\n",
    "# One-sample t-test\n",
    "t_statisticH, p_valueH = ttest_1samp(odds_mandantes, null_mean)\n",
    "\n",
    "print(\"\\nT-statistic Home:\", t_statisticH)\n",
    "print(\"P-value Home:\", p_valueH)\n",
    "\n",
    "if p_valueH < alpha:\n",
    "    print(\"\\nHipótese nula rejeitada para Mandante\")\n",
    "else:\n",
    "    print(\"\\nHipótese nula aceita para Mandante\")\n",
    "\n",
    "null_mean = meanH\n",
    "\n",
    "# One-sample t-test\n",
    "t_statisticA, p_valueA = ttest_1samp(odds_fora, null_mean)\n",
    "\n",
    "print(\"\\nT-statistic Away:\", t_statisticA)\n",
    "print(\"P-value Away:\", p_valueA)\n",
    "\n",
    "if p_valueA < alpha:\n",
    "    print(\"\\nHipótese nula rejeitada para Visitante\")\n",
    "else:\n",
    "    print(\"\\nHipótese nula aceita para Visitante\")\n",
    "\n",
    "print(\"\\nMédia de odds para os times mandantes:\", meanH)\n",
    "print(\"Média de odds para os times visitantes:\", meanA)\n",
    "\n"
   ]
  },
  {
   "cell_type": "markdown",
   "metadata": {},
   "source": [
    "Percebemos, portanto, que as duas curvas também fazem uma meia gaussiana, mas que na curva que representa as odds dos times visitantes o pico é mais para a direita (odds maiores), ou seja, os times favoritos são geralmente os que jogam em casa."
   ]
  },
  {
   "cell_type": "markdown",
   "metadata": {},
   "source": [
    "Utilizamos também do cálculo de p-value para mostrar que a média dos times que jogam em casa é menor do que a média dos times que jogam fora de casa, portanto os times que jogam em casa são favoritos"
   ]
  },
  {
   "cell_type": "markdown",
   "metadata": {},
   "source": []
  },
  {
   "cell_type": "code",
   "execution_count": 37,
   "metadata": {},
   "outputs": [
    {
     "name": "stdout",
     "output_type": "stream",
     "text": [
      "<class 'pandas.core.frame.DataFrame'>\n",
      "RangeIndex: 380 entries, 0 to 379\n",
      "Data columns (total 34 columns):\n",
      " #   Column             Non-Null Count  Dtype  \n",
      "---  ------             --------------  -----  \n",
      " 0   HomeTeam           380 non-null    object \n",
      " 1   AwayTeam           380 non-null    object \n",
      " 2   FTHG               380 non-null    int64  \n",
      " 3   FTAG               380 non-null    int64  \n",
      " 4   FTR                380 non-null    object \n",
      " 5   HTHG               380 non-null    int64  \n",
      " 6   HTAG               380 non-null    int64  \n",
      " 7   HTR                380 non-null    object \n",
      " 8   HS                 380 non-null    int64  \n",
      " 9   AS                 380 non-null    int64  \n",
      " 10  HST                380 non-null    int64  \n",
      " 11  AST                380 non-null    int64  \n",
      " 12  HF                 380 non-null    int64  \n",
      " 13  AF                 380 non-null    int64  \n",
      " 14  HC                 380 non-null    int64  \n",
      " 15  AC                 380 non-null    int64  \n",
      " 16  HY                 380 non-null    int64  \n",
      " 17  AY                 380 non-null    int64  \n",
      " 18  HR                 380 non-null    int64  \n",
      " 19  AR                 380 non-null    int64  \n",
      " 20  MaxH               380 non-null    float64\n",
      " 21  MaxD               380 non-null    float64\n",
      " 22  MaxA               380 non-null    float64\n",
      " 23  AvgH               380 non-null    float64\n",
      " 24  AvgD               380 non-null    float64\n",
      " 25  AvgA               380 non-null    float64\n",
      " 26  AvgH_normalized    380 non-null    float64\n",
      " 27  AvgA_normalized    380 non-null    float64\n",
      " 28  AvgD_normalized    380 non-null    float64\n",
      " 29  Outlier            380 non-null    int64  \n",
      " 30  outlier            380 non-null    int64  \n",
      " 31  ExpectedResult     380 non-null    object \n",
      " 32  amount             380 non-null    float64\n",
      " 33  cumulative_amount  380 non-null    float64\n",
      "dtypes: float64(11), int64(18), object(5)\n",
      "memory usage: 101.1+ KB\n"
     ]
    }
   ],
   "source": [
    "df.info()"
   ]
  },
  {
   "cell_type": "markdown",
   "metadata": {},
   "source": [
    "# Entrega 2\n"
   ]
  },
  {
   "cell_type": "markdown",
   "metadata": {},
   "source": [
    "## Passos iniciais"
   ]
  },
  {
   "cell_type": "markdown",
   "metadata": {},
   "source": []
  },
  {
   "cell_type": "code",
   "execution_count": 38,
   "metadata": {},
   "outputs": [],
   "source": [
    "# Importando as bibliotecas necessárias\n",
    "from sklearn.model_selection import train_test_split\n",
    "from sklearn.preprocessing import StandardScaler\n",
    "\n",
    "categorical_columns = ['HomeTeam', 'AwayTeam', 'FTR', 'HTR', 'ExpectedResult']\n",
    "df.drop(categorical_columns, axis=1, inplace=True)\n",
    "# Supondo que 'X' são as características e 'y' é o alvo\n",
    "X = df.drop('AvgH', axis=1)  # Substitua 'target_column' pelo nome da coluna alvo\n",
    "y = df['AvgH']\n",
    "\n",
    "# Dividindo os dados em conjuntos de treinamento e teste\n",
    "X_train, X_test, y_train, y_test = train_test_split(X, y, test_size=0.2, random_state=42)\n",
    "\n",
    "# Normalizando os dados\n",
    "scaler = StandardScaler()\n",
    "X_train = scaler.fit_transform(X_train)\n",
    "X_test = scaler.transform(X_test)"
   ]
  },
  {
   "cell_type": "markdown",
   "metadata": {},
   "source": [
    "### Regressão Linear"
   ]
  },
  {
   "cell_type": "code",
   "execution_count": 39,
   "metadata": {},
   "outputs": [
    {
     "name": "stdout",
     "output_type": "stream",
     "text": [
      "MSE: 3.5064088755917505e-30\n"
     ]
    }
   ],
   "source": [
    "from sklearn.linear_model import LinearRegression\n",
    "from sklearn.metrics import mean_squared_error\n",
    "\n",
    "# Criando e treinando o modelo\n",
    "model = LinearRegression()\n",
    "model.fit(X_train, y_train)\n",
    "\n",
    "# Fazendo previsões\n",
    "predictions = model.predict(X_test)\n",
    "\n",
    "# Avaliando o modelo\n",
    "mse = mean_squared_error(y_test, predictions)\n",
    "print(f\"MSE: {mse}\")"
   ]
  },
  {
   "cell_type": "markdown",
   "metadata": {},
   "source": [
    "### Árvore de Decisão"
   ]
  },
  {
   "cell_type": "code",
   "execution_count": 40,
   "metadata": {},
   "outputs": [
    {
     "name": "stdout",
     "output_type": "stream",
     "text": [
      "MSE: 0.620646052631579\n"
     ]
    }
   ],
   "source": [
    "from sklearn.tree import DecisionTreeRegressor\n",
    "from sklearn.metrics import mean_squared_error\n",
    "\n",
    "# Criando e treinando o modelo\n",
    "model = DecisionTreeRegressor(random_state=42)\n",
    "model.fit(X_train, y_train)\n",
    "\n",
    "# Fazendo previsões\n",
    "predictions = model.predict(X_test)\n",
    "\n",
    "# Avaliando o modelo\n",
    "mse = mean_squared_error(y_test, predictions)\n",
    "print(f\"MSE: {mse}\")"
   ]
  },
  {
   "cell_type": "markdown",
   "metadata": {},
   "source": [
    "### Random Forest"
   ]
  },
  {
   "cell_type": "code",
   "execution_count": 41,
   "metadata": {},
   "outputs": [
    {
     "name": "stdout",
     "output_type": "stream",
     "text": [
      "MSE: 0.05800420552631604\n"
     ]
    }
   ],
   "source": [
    "from sklearn.ensemble import RandomForestRegressor\n",
    "from sklearn.metrics import mean_squared_error\n",
    "\n",
    "# Criando e treinando o modelo\n",
    "model = RandomForestRegressor(random_state=42)\n",
    "model.fit(X_train, y_train)\n",
    "\n",
    "# Fazendo previsões\n",
    "predictions = model.predict(X_test)\n",
    "\n",
    "# Avaliando o modelo\n",
    "mse = mean_squared_error(y_test, predictions)\n",
    "print(f\"MSE: {mse}\")"
   ]
  },
  {
   "cell_type": "markdown",
   "metadata": {},
   "source": [
    "### SVM"
   ]
  },
  {
   "cell_type": "code",
   "execution_count": 42,
   "metadata": {},
   "outputs": [
    {
     "name": "stdout",
     "output_type": "stream",
     "text": [
      "MSE: 1.7867520249647626\n"
     ]
    }
   ],
   "source": [
    "from sklearn.svm import SVR\n",
    "from sklearn.metrics import mean_squared_error\n",
    "\n",
    "# Criando e treinando o modelo\n",
    "model = SVR()\n",
    "model.fit(X_train, y_train)\n",
    "\n",
    "# Fazendo previsões\n",
    "predictions = model.predict(X_test)\n",
    "\n",
    "# Avaliando o modelo\n",
    "mse = mean_squared_error(y_test, predictions)\n",
    "print(f\"MSE: {mse}\")"
   ]
  },
  {
   "cell_type": "code",
   "execution_count": 43,
   "metadata": {},
   "outputs": [
    {
     "name": "stdout",
     "output_type": "stream",
     "text": [
      "Collecting mlflow\n",
      "  Downloading mlflow-2.14.3-py3-none-any.whl.metadata (29 kB)\n",
      "Collecting Flask<4 (from mlflow)\n",
      "  Downloading flask-3.0.3-py3-none-any.whl.metadata (3.2 kB)\n",
      "Requirement already satisfied: alembic!=1.10.0,<2 in /Library/Frameworks/Python.framework/Versions/3.10/lib/python3.10/site-packages (from mlflow) (1.12.1)\n",
      "Collecting cachetools<6,>=5.0.0 (from mlflow)\n",
      "  Downloading cachetools-5.3.3-py3-none-any.whl.metadata (5.3 kB)\n",
      "Requirement already satisfied: click<9,>=7.0 in /Library/Frameworks/Python.framework/Versions/3.10/lib/python3.10/site-packages (from mlflow) (8.0.3)\n",
      "Collecting cloudpickle<4 (from mlflow)\n",
      "  Downloading cloudpickle-3.0.0-py3-none-any.whl.metadata (7.0 kB)\n",
      "Collecting docker<8,>=4.0.0 (from mlflow)\n",
      "  Downloading docker-7.1.0-py3-none-any.whl.metadata (3.8 kB)\n",
      "Requirement already satisfied: entrypoints<1 in /Library/Frameworks/Python.framework/Versions/3.10/lib/python3.10/site-packages (from mlflow) (0.4)\n",
      "Collecting gitpython<4,>=3.1.9 (from mlflow)\n",
      "  Downloading GitPython-3.1.43-py3-none-any.whl.metadata (13 kB)\n",
      "Collecting graphene<4 (from mlflow)\n",
      "  Downloading graphene-3.3-py2.py3-none-any.whl.metadata (7.7 kB)\n",
      "Collecting importlib-metadata!=4.7.0,<8,>=3.7.0 (from mlflow)\n",
      "  Downloading importlib_metadata-7.2.1-py3-none-any.whl.metadata (4.6 kB)\n",
      "Collecting markdown<4,>=3.3 (from mlflow)\n",
      "  Downloading Markdown-3.6-py3-none-any.whl.metadata (7.0 kB)\n",
      "Requirement already satisfied: matplotlib<4 in /Library/Frameworks/Python.framework/Versions/3.10/lib/python3.10/site-packages (from mlflow) (3.9.0)\n",
      "Requirement already satisfied: numpy<2 in /Library/Frameworks/Python.framework/Versions/3.10/lib/python3.10/site-packages (from mlflow) (1.26.4)\n",
      "Collecting opentelemetry-api<3,>=1.9.0 (from mlflow)\n",
      "  Downloading opentelemetry_api-1.25.0-py3-none-any.whl.metadata (1.4 kB)\n",
      "Collecting opentelemetry-sdk<3,>=1.9.0 (from mlflow)\n",
      "  Downloading opentelemetry_sdk-1.25.0-py3-none-any.whl.metadata (1.4 kB)\n",
      "Requirement already satisfied: packaging<25 in /Library/Frameworks/Python.framework/Versions/3.10/lib/python3.10/site-packages (from mlflow) (21.3)\n",
      "Requirement already satisfied: pandas<3 in /Library/Frameworks/Python.framework/Versions/3.10/lib/python3.10/site-packages (from mlflow) (2.2.2)\n",
      "Collecting protobuf<5,>=3.12.0 (from mlflow)\n",
      "  Downloading protobuf-4.25.3-cp37-abi3-macosx_10_9_universal2.whl.metadata (541 bytes)\n",
      "Collecting pyarrow<16,>=4.0.0 (from mlflow)\n",
      "  Downloading pyarrow-15.0.2-cp310-cp310-macosx_11_0_arm64.whl.metadata (3.0 kB)\n",
      "Requirement already satisfied: pytz<2025 in /Library/Frameworks/Python.framework/Versions/3.10/lib/python3.10/site-packages (from mlflow) (2024.1)\n",
      "Collecting pyyaml<7,>=5.1 (from mlflow)\n",
      "  Downloading PyYAML-6.0.1-cp310-cp310-macosx_11_0_arm64.whl.metadata (2.1 kB)\n",
      "Collecting querystring-parser<2 (from mlflow)\n",
      "  Downloading querystring_parser-1.2.4-py2.py3-none-any.whl.metadata (559 bytes)\n",
      "Requirement already satisfied: requests<3,>=2.17.3 in /Library/Frameworks/Python.framework/Versions/3.10/lib/python3.10/site-packages (from mlflow) (2.31.0)\n",
      "Requirement already satisfied: scikit-learn<2 in /Library/Frameworks/Python.framework/Versions/3.10/lib/python3.10/site-packages (from mlflow) (1.5.1)\n",
      "Requirement already satisfied: scipy<2 in /Library/Frameworks/Python.framework/Versions/3.10/lib/python3.10/site-packages (from mlflow) (1.12.0)\n",
      "Requirement already satisfied: sqlalchemy<3,>=1.4.0 in /Library/Frameworks/Python.framework/Versions/3.10/lib/python3.10/site-packages (from mlflow) (2.0.23)\n",
      "Collecting sqlparse<1,>=0.4.0 (from mlflow)\n",
      "  Downloading sqlparse-0.5.0-py3-none-any.whl.metadata (3.9 kB)\n",
      "Requirement already satisfied: Jinja2<4,>=2.11 in /Library/Frameworks/Python.framework/Versions/3.10/lib/python3.10/site-packages (from mlflow) (3.0.3)\n",
      "Collecting gunicorn<23 (from mlflow)\n",
      "  Downloading gunicorn-22.0.0-py3-none-any.whl.metadata (4.4 kB)\n",
      "Requirement already satisfied: Mako in /Library/Frameworks/Python.framework/Versions/3.10/lib/python3.10/site-packages (from alembic!=1.10.0,<2->mlflow) (1.3.0)\n",
      "Requirement already satisfied: typing-extensions>=4 in /Library/Frameworks/Python.framework/Versions/3.10/lib/python3.10/site-packages (from alembic!=1.10.0,<2->mlflow) (4.11.0)\n",
      "Requirement already satisfied: urllib3>=1.26.0 in /Library/Frameworks/Python.framework/Versions/3.10/lib/python3.10/site-packages (from docker<8,>=4.0.0->mlflow) (2.0.3)\n",
      "Collecting Werkzeug>=3.0.0 (from Flask<4->mlflow)\n",
      "  Downloading werkzeug-3.0.3-py3-none-any.whl.metadata (3.7 kB)\n",
      "Collecting Jinja2<4,>=2.11 (from mlflow)\n",
      "  Downloading jinja2-3.1.4-py3-none-any.whl.metadata (2.6 kB)\n",
      "Collecting itsdangerous>=2.1.2 (from Flask<4->mlflow)\n",
      "  Downloading itsdangerous-2.2.0-py3-none-any.whl.metadata (1.9 kB)\n",
      "Collecting click<9,>=7.0 (from mlflow)\n",
      "  Downloading click-8.1.7-py3-none-any.whl.metadata (3.0 kB)\n",
      "Collecting blinker>=1.6.2 (from Flask<4->mlflow)\n",
      "  Downloading blinker-1.8.2-py3-none-any.whl.metadata (1.6 kB)\n",
      "Collecting gitdb<5,>=4.0.1 (from gitpython<4,>=3.1.9->mlflow)\n",
      "  Downloading gitdb-4.0.11-py3-none-any.whl.metadata (1.2 kB)\n",
      "Collecting graphql-core<3.3,>=3.1 (from graphene<4->mlflow)\n",
      "  Downloading graphql_core-3.2.3-py3-none-any.whl.metadata (10 kB)\n",
      "Collecting graphql-relay<3.3,>=3.1 (from graphene<4->mlflow)\n",
      "  Downloading graphql_relay-3.2.0-py3-none-any.whl.metadata (12 kB)\n",
      "Collecting aniso8601<10,>=8 (from graphene<4->mlflow)\n",
      "  Downloading aniso8601-9.0.1-py2.py3-none-any.whl.metadata (23 kB)\n",
      "Collecting zipp>=0.5 (from importlib-metadata!=4.7.0,<8,>=3.7.0->mlflow)\n",
      "  Downloading zipp-3.19.2-py3-none-any.whl.metadata (3.6 kB)\n",
      "Requirement already satisfied: MarkupSafe>=2.0 in /Library/Frameworks/Python.framework/Versions/3.10/lib/python3.10/site-packages (from Jinja2<4,>=2.11->mlflow) (2.0.1)\n",
      "Requirement already satisfied: contourpy>=1.0.1 in /Library/Frameworks/Python.framework/Versions/3.10/lib/python3.10/site-packages (from matplotlib<4->mlflow) (1.2.1)\n",
      "Requirement already satisfied: cycler>=0.10 in /Library/Frameworks/Python.framework/Versions/3.10/lib/python3.10/site-packages (from matplotlib<4->mlflow) (0.12.1)\n",
      "Requirement already satisfied: fonttools>=4.22.0 in /Library/Frameworks/Python.framework/Versions/3.10/lib/python3.10/site-packages (from matplotlib<4->mlflow) (4.53.0)\n",
      "Requirement already satisfied: kiwisolver>=1.3.1 in /Library/Frameworks/Python.framework/Versions/3.10/lib/python3.10/site-packages (from matplotlib<4->mlflow) (1.4.5)\n",
      "Requirement already satisfied: pillow>=8 in /Library/Frameworks/Python.framework/Versions/3.10/lib/python3.10/site-packages (from matplotlib<4->mlflow) (10.3.0)\n",
      "Requirement already satisfied: pyparsing>=2.3.1 in /Library/Frameworks/Python.framework/Versions/3.10/lib/python3.10/site-packages (from matplotlib<4->mlflow) (3.0.7)\n",
      "Requirement already satisfied: python-dateutil>=2.7 in /Library/Frameworks/Python.framework/Versions/3.10/lib/python3.10/site-packages (from matplotlib<4->mlflow) (2.8.2)\n",
      "Collecting deprecated>=1.2.6 (from opentelemetry-api<3,>=1.9.0->mlflow)\n",
      "  Downloading Deprecated-1.2.14-py2.py3-none-any.whl.metadata (5.4 kB)\n",
      "Collecting importlib-metadata!=4.7.0,<8,>=3.7.0 (from mlflow)\n",
      "  Downloading importlib_metadata-7.1.0-py3-none-any.whl.metadata (4.7 kB)\n",
      "Collecting opentelemetry-semantic-conventions==0.46b0 (from opentelemetry-sdk<3,>=1.9.0->mlflow)\n",
      "  Downloading opentelemetry_semantic_conventions-0.46b0-py3-none-any.whl.metadata (2.3 kB)\n",
      "Requirement already satisfied: tzdata>=2022.7 in /Library/Frameworks/Python.framework/Versions/3.10/lib/python3.10/site-packages (from pandas<3->mlflow) (2024.1)\n",
      "Requirement already satisfied: six in /Library/Frameworks/Python.framework/Versions/3.10/lib/python3.10/site-packages (from querystring-parser<2->mlflow) (1.16.0)\n",
      "Requirement already satisfied: charset-normalizer<4,>=2 in /Library/Frameworks/Python.framework/Versions/3.10/lib/python3.10/site-packages (from requests<3,>=2.17.3->mlflow) (3.2.0)\n",
      "Requirement already satisfied: idna<4,>=2.5 in /Library/Frameworks/Python.framework/Versions/3.10/lib/python3.10/site-packages (from requests<3,>=2.17.3->mlflow) (3.4)\n",
      "Requirement already satisfied: certifi>=2017.4.17 in /Library/Frameworks/Python.framework/Versions/3.10/lib/python3.10/site-packages (from requests<3,>=2.17.3->mlflow) (2023.5.7)\n",
      "Requirement already satisfied: joblib>=1.2.0 in /Library/Frameworks/Python.framework/Versions/3.10/lib/python3.10/site-packages (from scikit-learn<2->mlflow) (1.4.2)\n",
      "Requirement already satisfied: threadpoolctl>=3.1.0 in /Library/Frameworks/Python.framework/Versions/3.10/lib/python3.10/site-packages (from scikit-learn<2->mlflow) (3.5.0)\n",
      "Collecting wrapt<2,>=1.10 (from deprecated>=1.2.6->opentelemetry-api<3,>=1.9.0->mlflow)\n",
      "  Downloading wrapt-1.16.0-cp310-cp310-macosx_11_0_arm64.whl.metadata (6.6 kB)\n",
      "Collecting smmap<6,>=3.0.1 (from gitdb<5,>=4.0.1->gitpython<4,>=3.1.9->mlflow)\n",
      "  Downloading smmap-5.0.1-py3-none-any.whl.metadata (4.3 kB)\n",
      "Collecting MarkupSafe>=2.0 (from Jinja2<4,>=2.11->mlflow)\n",
      "  Downloading MarkupSafe-2.1.5-cp310-cp310-macosx_10_9_universal2.whl.metadata (3.0 kB)\n",
      "Downloading mlflow-2.14.3-py3-none-any.whl (25.8 MB)\n",
      "\u001b[2K   \u001b[90m━━━━━━━━━━━━━━━━━━━━━━━━━━━━━━━━━━━━━━━━\u001b[0m \u001b[32m25.8/25.8 MB\u001b[0m \u001b[31m12.5 MB/s\u001b[0m eta \u001b[36m0:00:00\u001b[0m00:01\u001b[0m00:01\u001b[0m\n",
      "\u001b[?25hDownloading cachetools-5.3.3-py3-none-any.whl (9.3 kB)\n",
      "Downloading cloudpickle-3.0.0-py3-none-any.whl (20 kB)\n",
      "Downloading docker-7.1.0-py3-none-any.whl (147 kB)\n",
      "\u001b[2K   \u001b[90m━━━━━━━━━━━━━━━━━━━━━━━━━━━━━━━━━━━━━━━━\u001b[0m \u001b[32m147.8/147.8 kB\u001b[0m \u001b[31m8.7 MB/s\u001b[0m eta \u001b[36m0:00:00\u001b[0m\n",
      "\u001b[?25hDownloading flask-3.0.3-py3-none-any.whl (101 kB)\n",
      "\u001b[2K   \u001b[90m━━━━━━━━━━━━━━━━━━━━━━━━━━━━━━━━━━━━━━━━\u001b[0m \u001b[32m101.7/101.7 kB\u001b[0m \u001b[31m10.0 MB/s\u001b[0m eta \u001b[36m0:00:00\u001b[0m\n",
      "\u001b[?25hDownloading click-8.1.7-py3-none-any.whl (97 kB)\n",
      "\u001b[2K   \u001b[90m━━━━━━━━━━━━━━━━━━━━━━━━━━━━━━━━━━━━━━━━\u001b[0m \u001b[32m97.9/97.9 kB\u001b[0m \u001b[31m10.9 MB/s\u001b[0m eta \u001b[36m0:00:00\u001b[0m\n",
      "\u001b[?25hDownloading GitPython-3.1.43-py3-none-any.whl (207 kB)\n",
      "\u001b[2K   \u001b[90m━━━━━━━━━━━━━━━━━━━━━━━━━━━━━━━━━━━━━━━━\u001b[0m \u001b[32m207.3/207.3 kB\u001b[0m \u001b[31m8.8 MB/s\u001b[0m eta \u001b[36m0:00:00\u001b[0m\n",
      "\u001b[?25hDownloading graphene-3.3-py2.py3-none-any.whl (128 kB)\n",
      "\u001b[2K   \u001b[90m━━━━━━━━━━━━━━━━━━━━━━━━━━━━━━━━━━━━━━━━\u001b[0m \u001b[32m128.2/128.2 kB\u001b[0m \u001b[31m8.2 MB/s\u001b[0m eta \u001b[36m0:00:00\u001b[0m\n",
      "\u001b[?25hDownloading gunicorn-22.0.0-py3-none-any.whl (84 kB)\n",
      "\u001b[2K   \u001b[90m━━━━━━━━━━━━━━━━━━━━━━━━━━━━━━━━━━━━━━━━\u001b[0m \u001b[32m84.4/84.4 kB\u001b[0m \u001b[31m8.2 MB/s\u001b[0m eta \u001b[36m0:00:00\u001b[0m\n",
      "\u001b[?25hDownloading jinja2-3.1.4-py3-none-any.whl (133 kB)\n",
      "\u001b[2K   \u001b[90m━━━━━━━━━━━━━━━━━━━━━━━━━━━━━━━━━━━━━━━━\u001b[0m \u001b[32m133.3/133.3 kB\u001b[0m \u001b[31m7.8 MB/s\u001b[0m eta \u001b[36m0:00:00\u001b[0m\n",
      "\u001b[?25hDownloading Markdown-3.6-py3-none-any.whl (105 kB)\n",
      "\u001b[2K   \u001b[90m━━━━━━━━━━━━━━━━━━━━━━━━━━━━━━━━━━━━━━━━\u001b[0m \u001b[32m105.4/105.4 kB\u001b[0m \u001b[31m5.0 MB/s\u001b[0m eta \u001b[36m0:00:00\u001b[0m\n",
      "\u001b[?25hDownloading opentelemetry_api-1.25.0-py3-none-any.whl (59 kB)\n",
      "\u001b[2K   \u001b[90m━━━━━━━━━━━━━━━━━━━━━━━━━━━━━━━━━━━━━━━━\u001b[0m \u001b[32m59.9/59.9 kB\u001b[0m \u001b[31m4.5 MB/s\u001b[0m eta \u001b[36m0:00:00\u001b[0m\n",
      "\u001b[?25hDownloading importlib_metadata-7.1.0-py3-none-any.whl (24 kB)\n",
      "Downloading opentelemetry_sdk-1.25.0-py3-none-any.whl (107 kB)\n",
      "\u001b[2K   \u001b[90m━━━━━━━━━━━━━━━━━━━━━━━━━━━━━━━━━━━━━━━━\u001b[0m \u001b[32m107.0/107.0 kB\u001b[0m \u001b[31m10.7 MB/s\u001b[0m eta \u001b[36m0:00:00\u001b[0m\n",
      "\u001b[?25hDownloading opentelemetry_semantic_conventions-0.46b0-py3-none-any.whl (130 kB)\n",
      "\u001b[2K   \u001b[90m━━━━━━━━━━━━━━━━━━━━━━━━━━━━━━━━━━━━━━━━\u001b[0m \u001b[32m130.5/130.5 kB\u001b[0m \u001b[31m7.4 MB/s\u001b[0m eta \u001b[36m0:00:00\u001b[0m\n",
      "\u001b[?25hDownloading protobuf-4.25.3-cp37-abi3-macosx_10_9_universal2.whl (394 kB)\n",
      "\u001b[2K   \u001b[90m━━━━━━━━━━━━━━━━━━━━━━━━━━━━━━━━━━━━━━━━\u001b[0m \u001b[32m394.2/394.2 kB\u001b[0m \u001b[31m31.4 MB/s\u001b[0m eta \u001b[36m0:00:00\u001b[0m\n",
      "\u001b[?25hDownloading pyarrow-15.0.2-cp310-cp310-macosx_11_0_arm64.whl (24.2 MB)\n",
      "\u001b[2K   \u001b[90m━━━━━━━━━━━━━━━━━━━━━━━━━━━━━━━━━━━━━━━━\u001b[0m \u001b[32m24.2/24.2 MB\u001b[0m \u001b[31m17.9 MB/s\u001b[0m eta \u001b[36m0:00:00\u001b[0m00:01\u001b[0m00:01\u001b[0m\n",
      "\u001b[?25hDownloading PyYAML-6.0.1-cp310-cp310-macosx_11_0_arm64.whl (169 kB)\n",
      "\u001b[2K   \u001b[90m━━━━━━━━━━━━━━━━━━━━━━━━━━━━━━━━━━━━━━━━\u001b[0m \u001b[32m169.3/169.3 kB\u001b[0m \u001b[31m12.7 MB/s\u001b[0m eta \u001b[36m0:00:00\u001b[0m\n",
      "\u001b[?25hDownloading querystring_parser-1.2.4-py2.py3-none-any.whl (7.9 kB)\n",
      "Downloading sqlparse-0.5.0-py3-none-any.whl (43 kB)\n",
      "\u001b[2K   \u001b[90m━━━━━━━━━━━━━━━━━━━━━━━━━━━━━━━━━━━━━━━━\u001b[0m \u001b[32m44.0/44.0 kB\u001b[0m \u001b[31m3.6 MB/s\u001b[0m eta \u001b[36m0:00:00\u001b[0m\n",
      "\u001b[?25hDownloading aniso8601-9.0.1-py2.py3-none-any.whl (52 kB)\n",
      "\u001b[2K   \u001b[90m━━━━━━━━━━━━━━━━━━━━━━━━━━━━━━━━━━━━━━━━\u001b[0m \u001b[32m52.8/52.8 kB\u001b[0m \u001b[31m4.9 MB/s\u001b[0m eta \u001b[36m0:00:00\u001b[0m\n",
      "\u001b[?25hDownloading blinker-1.8.2-py3-none-any.whl (9.5 kB)\n",
      "Downloading Deprecated-1.2.14-py2.py3-none-any.whl (9.6 kB)\n",
      "Downloading gitdb-4.0.11-py3-none-any.whl (62 kB)\n",
      "\u001b[2K   \u001b[90m━━━━━━━━━━━━━━━━━━━━━━━━━━━━━━━━━━━━━━━━\u001b[0m \u001b[32m62.7/62.7 kB\u001b[0m \u001b[31m6.3 MB/s\u001b[0m eta \u001b[36m0:00:00\u001b[0m\n",
      "\u001b[?25hDownloading graphql_core-3.2.3-py3-none-any.whl (202 kB)\n",
      "\u001b[2K   \u001b[90m━━━━━━━━━━━━━━━━━━━━━━━━━━━━━━━━━━━━━━━━\u001b[0m \u001b[32m202.9/202.9 kB\u001b[0m \u001b[31m18.5 MB/s\u001b[0m eta \u001b[36m0:00:00\u001b[0m\n",
      "\u001b[?25hDownloading graphql_relay-3.2.0-py3-none-any.whl (16 kB)\n",
      "Downloading itsdangerous-2.2.0-py3-none-any.whl (16 kB)\n",
      "Downloading werkzeug-3.0.3-py3-none-any.whl (227 kB)\n",
      "\u001b[2K   \u001b[90m━━━━━━━━━━━━━━━━━━━━━━━━━━━━━━━━━━━━━━━━\u001b[0m \u001b[32m227.3/227.3 kB\u001b[0m \u001b[31m20.4 MB/s\u001b[0m eta \u001b[36m0:00:00\u001b[0m\n",
      "\u001b[?25hDownloading MarkupSafe-2.1.5-cp310-cp310-macosx_10_9_universal2.whl (18 kB)\n",
      "Downloading zipp-3.19.2-py3-none-any.whl (9.0 kB)\n",
      "Downloading smmap-5.0.1-py3-none-any.whl (24 kB)\n",
      "Downloading wrapt-1.16.0-cp310-cp310-macosx_11_0_arm64.whl (38 kB)\n",
      "Installing collected packages: aniso8601, zipp, wrapt, sqlparse, smmap, querystring-parser, pyyaml, pyarrow, protobuf, MarkupSafe, markdown, itsdangerous, graphql-core, cloudpickle, click, cachetools, blinker, Werkzeug, Jinja2, importlib-metadata, gunicorn, graphql-relay, gitdb, docker, deprecated, opentelemetry-api, graphene, gitpython, Flask, opentelemetry-semantic-conventions, opentelemetry-sdk, mlflow\n",
      "  Attempting uninstall: MarkupSafe\n",
      "    Found existing installation: MarkupSafe 2.0.1\n",
      "    Uninstalling MarkupSafe-2.0.1:\n",
      "      Successfully uninstalled MarkupSafe-2.0.1\n",
      "  Attempting uninstall: click\n",
      "    Found existing installation: click 8.0.3\n",
      "    Uninstalling click-8.0.3:\n",
      "      Successfully uninstalled click-8.0.3\n",
      "  Attempting uninstall: Jinja2\n",
      "    Found existing installation: Jinja2 3.0.3\n",
      "    Uninstalling Jinja2-3.0.3:\n",
      "      Successfully uninstalled Jinja2-3.0.3\n",
      "Successfully installed Flask-3.0.3 Jinja2-3.1.4 MarkupSafe-2.1.5 Werkzeug-3.0.3 aniso8601-9.0.1 blinker-1.8.2 cachetools-5.3.3 click-8.1.7 cloudpickle-3.0.0 deprecated-1.2.14 docker-7.1.0 gitdb-4.0.11 gitpython-3.1.43 graphene-3.3 graphql-core-3.2.3 graphql-relay-3.2.0 gunicorn-22.0.0 importlib-metadata-7.1.0 itsdangerous-2.2.0 markdown-3.6 mlflow-2.14.3 opentelemetry-api-1.25.0 opentelemetry-sdk-1.25.0 opentelemetry-semantic-conventions-0.46b0 protobuf-4.25.3 pyarrow-15.0.2 pyyaml-6.0.1 querystring-parser-1.2.4 smmap-5.0.1 sqlparse-0.5.0 wrapt-1.16.0 zipp-3.19.2\n",
      "Note: you may need to restart the kernel to use updated packages.\n"
     ]
    },
    {
     "name": "stderr",
     "output_type": "stream",
     "text": [
      "/Library/Frameworks/Python.framework/Versions/3.10/lib/python3.10/site-packages/_distutils_hack/__init__.py:26: UserWarning: Setuptools is replacing distutils.\n",
      "  warnings.warn(\"Setuptools is replacing distutils.\")\n"
     ]
    },
    {
     "ename": "FileNotFoundError",
     "evalue": "[Errno 2] No such file or directory: 'correlation_matrix.csv'",
     "output_type": "error",
     "traceback": [
      "\u001b[0;31m---------------------------------------------------------------------------\u001b[0m",
      "\u001b[0;31mFileNotFoundError\u001b[0m                         Traceback (most recent call last)",
      "Input \u001b[0;32mIn [43]\u001b[0m, in \u001b[0;36m<module>\u001b[0;34m\u001b[0m\n\u001b[1;32m     28\u001b[0m mlflow\u001b[38;5;241m.\u001b[39mlog_metric(\u001b[38;5;124m\"\u001b[39m\u001b[38;5;124mmse\u001b[39m\u001b[38;5;124m\"\u001b[39m, mse)\n\u001b[1;32m     30\u001b[0m \u001b[38;5;66;03m# Save the correlation matrix as an artifact\u001b[39;00m\n\u001b[0;32m---> 31\u001b[0m \u001b[43mmlflow\u001b[49m\u001b[38;5;241;43m.\u001b[39;49m\u001b[43mlog_artifact\u001b[49m\u001b[43m(\u001b[49m\u001b[38;5;124;43m\"\u001b[39;49m\u001b[38;5;124;43mcorrelation_matrix.csv\u001b[39;49m\u001b[38;5;124;43m\"\u001b[39;49m\u001b[43m)\u001b[49m\n\u001b[1;32m     33\u001b[0m \u001b[38;5;66;03m# End the MLflow run\u001b[39;00m\n\u001b[1;32m     34\u001b[0m mlflow\u001b[38;5;241m.\u001b[39mend_run()\n",
      "File \u001b[0;32m/Library/Frameworks/Python.framework/Versions/3.10/lib/python3.10/site-packages/mlflow/tracking/fluent.py:1068\u001b[0m, in \u001b[0;36mlog_artifact\u001b[0;34m(local_path, artifact_path, run_id)\u001b[0m\n\u001b[1;32m   1040\u001b[0m \u001b[38;5;124;03m\"\"\"\u001b[39;00m\n\u001b[1;32m   1041\u001b[0m \u001b[38;5;124;03mLog a local file or directory as an artifact of the currently active run. If no run is\u001b[39;00m\n\u001b[1;32m   1042\u001b[0m \u001b[38;5;124;03mactive, this method will create a new active run.\u001b[39;00m\n\u001b[0;32m   (...)\u001b[0m\n\u001b[1;32m   1065\u001b[0m \u001b[38;5;124;03m            mlflow.log_artifact(path)\u001b[39;00m\n\u001b[1;32m   1066\u001b[0m \u001b[38;5;124;03m\"\"\"\u001b[39;00m\n\u001b[1;32m   1067\u001b[0m run_id \u001b[38;5;241m=\u001b[39m run_id \u001b[38;5;129;01mor\u001b[39;00m _get_or_start_run()\u001b[38;5;241m.\u001b[39minfo\u001b[38;5;241m.\u001b[39mrun_id\n\u001b[0;32m-> 1068\u001b[0m \u001b[43mMlflowClient\u001b[49m\u001b[43m(\u001b[49m\u001b[43m)\u001b[49m\u001b[38;5;241;43m.\u001b[39;49m\u001b[43mlog_artifact\u001b[49m\u001b[43m(\u001b[49m\u001b[43mrun_id\u001b[49m\u001b[43m,\u001b[49m\u001b[43m \u001b[49m\u001b[43mlocal_path\u001b[49m\u001b[43m,\u001b[49m\u001b[43m \u001b[49m\u001b[43martifact_path\u001b[49m\u001b[43m)\u001b[49m\n",
      "File \u001b[0;32m/Library/Frameworks/Python.framework/Versions/3.10/lib/python3.10/site-packages/mlflow/tracking/client.py:1914\u001b[0m, in \u001b[0;36mMlflowClient.log_artifact\u001b[0;34m(self, run_id, local_path, artifact_path)\u001b[0m\n\u001b[1;32m   1910\u001b[0m \u001b[38;5;28;01mif\u001b[39;00m run_id\u001b[38;5;241m.\u001b[39mstartswith(TRACE_REQUEST_ID_PREFIX):\n\u001b[1;32m   1911\u001b[0m     \u001b[38;5;28;01mraise\u001b[39;00m MlflowException(\n\u001b[1;32m   1912\u001b[0m         \u001b[38;5;124mf\u001b[39m\u001b[38;5;124m\"\u001b[39m\u001b[38;5;124mInvalid run id: \u001b[39m\u001b[38;5;132;01m{\u001b[39;00mrun_id\u001b[38;5;132;01m}\u001b[39;00m\u001b[38;5;124m. `log_artifact` run id must map to a valid run.\u001b[39m\u001b[38;5;124m\"\u001b[39m\n\u001b[1;32m   1913\u001b[0m     )\n\u001b[0;32m-> 1914\u001b[0m \u001b[38;5;28;43mself\u001b[39;49m\u001b[38;5;241;43m.\u001b[39;49m\u001b[43m_tracking_client\u001b[49m\u001b[38;5;241;43m.\u001b[39;49m\u001b[43mlog_artifact\u001b[49m\u001b[43m(\u001b[49m\u001b[43mrun_id\u001b[49m\u001b[43m,\u001b[49m\u001b[43m \u001b[49m\u001b[43mlocal_path\u001b[49m\u001b[43m,\u001b[49m\u001b[43m \u001b[49m\u001b[43martifact_path\u001b[49m\u001b[43m)\u001b[49m\n",
      "File \u001b[0;32m/Library/Frameworks/Python.framework/Versions/3.10/lib/python3.10/site-packages/mlflow/tracking/_tracking_service/client.py:810\u001b[0m, in \u001b[0;36mTrackingServiceClient.log_artifact\u001b[0;34m(self, run_id, local_path, artifact_path)\u001b[0m\n\u001b[1;32m    808\u001b[0m     artifact_repo\u001b[38;5;241m.\u001b[39mlog_artifacts(local_path, path_name)\n\u001b[1;32m    809\u001b[0m \u001b[38;5;28;01melse\u001b[39;00m:\n\u001b[0;32m--> 810\u001b[0m     \u001b[43martifact_repo\u001b[49m\u001b[38;5;241;43m.\u001b[39;49m\u001b[43mlog_artifact\u001b[49m\u001b[43m(\u001b[49m\u001b[43mlocal_path\u001b[49m\u001b[43m,\u001b[49m\u001b[43m \u001b[49m\u001b[43martifact_path\u001b[49m\u001b[43m)\u001b[49m\n",
      "File \u001b[0;32m/Library/Frameworks/Python.framework/Versions/3.10/lib/python3.10/site-packages/mlflow/store/artifact/local_artifact_repo.py:45\u001b[0m, in \u001b[0;36mLocalArtifactRepository.log_artifact\u001b[0;34m(self, local_file, artifact_path)\u001b[0m\n\u001b[1;32m     43\u001b[0m     mkdir(artifact_dir)\n\u001b[1;32m     44\u001b[0m \u001b[38;5;28;01mtry\u001b[39;00m:\n\u001b[0;32m---> 45\u001b[0m     \u001b[43mshutil\u001b[49m\u001b[38;5;241;43m.\u001b[39;49m\u001b[43mcopy2\u001b[49m\u001b[43m(\u001b[49m\u001b[43mlocal_file\u001b[49m\u001b[43m,\u001b[49m\u001b[43m \u001b[49m\u001b[43mos\u001b[49m\u001b[38;5;241;43m.\u001b[39;49m\u001b[43mpath\u001b[49m\u001b[38;5;241;43m.\u001b[39;49m\u001b[43mjoin\u001b[49m\u001b[43m(\u001b[49m\u001b[43martifact_dir\u001b[49m\u001b[43m,\u001b[49m\u001b[43m \u001b[49m\u001b[43mos\u001b[49m\u001b[38;5;241;43m.\u001b[39;49m\u001b[43mpath\u001b[49m\u001b[38;5;241;43m.\u001b[39;49m\u001b[43mbasename\u001b[49m\u001b[43m(\u001b[49m\u001b[43mlocal_file\u001b[49m\u001b[43m)\u001b[49m\u001b[43m)\u001b[49m\u001b[43m)\u001b[49m\n\u001b[1;32m     46\u001b[0m \u001b[38;5;28;01mexcept\u001b[39;00m shutil\u001b[38;5;241m.\u001b[39mSameFileError:\n\u001b[1;32m     47\u001b[0m     \u001b[38;5;28;01mpass\u001b[39;00m\n",
      "File \u001b[0;32m/Library/Frameworks/Python.framework/Versions/3.10/lib/python3.10/shutil.py:434\u001b[0m, in \u001b[0;36mcopy2\u001b[0;34m(src, dst, follow_symlinks)\u001b[0m\n\u001b[1;32m    432\u001b[0m \u001b[38;5;28;01mif\u001b[39;00m os\u001b[38;5;241m.\u001b[39mpath\u001b[38;5;241m.\u001b[39misdir(dst):\n\u001b[1;32m    433\u001b[0m     dst \u001b[38;5;241m=\u001b[39m os\u001b[38;5;241m.\u001b[39mpath\u001b[38;5;241m.\u001b[39mjoin(dst, os\u001b[38;5;241m.\u001b[39mpath\u001b[38;5;241m.\u001b[39mbasename(src))\n\u001b[0;32m--> 434\u001b[0m \u001b[43mcopyfile\u001b[49m\u001b[43m(\u001b[49m\u001b[43msrc\u001b[49m\u001b[43m,\u001b[49m\u001b[43m \u001b[49m\u001b[43mdst\u001b[49m\u001b[43m,\u001b[49m\u001b[43m \u001b[49m\u001b[43mfollow_symlinks\u001b[49m\u001b[38;5;241;43m=\u001b[39;49m\u001b[43mfollow_symlinks\u001b[49m\u001b[43m)\u001b[49m\n\u001b[1;32m    435\u001b[0m copystat(src, dst, follow_symlinks\u001b[38;5;241m=\u001b[39mfollow_symlinks)\n\u001b[1;32m    436\u001b[0m \u001b[38;5;28;01mreturn\u001b[39;00m dst\n",
      "File \u001b[0;32m/Library/Frameworks/Python.framework/Versions/3.10/lib/python3.10/shutil.py:254\u001b[0m, in \u001b[0;36mcopyfile\u001b[0;34m(src, dst, follow_symlinks)\u001b[0m\n\u001b[1;32m    252\u001b[0m     os\u001b[38;5;241m.\u001b[39msymlink(os\u001b[38;5;241m.\u001b[39mreadlink(src), dst)\n\u001b[1;32m    253\u001b[0m \u001b[38;5;28;01melse\u001b[39;00m:\n\u001b[0;32m--> 254\u001b[0m     \u001b[38;5;28;01mwith\u001b[39;00m \u001b[38;5;28;43mopen\u001b[39;49m\u001b[43m(\u001b[49m\u001b[43msrc\u001b[49m\u001b[43m,\u001b[49m\u001b[43m \u001b[49m\u001b[38;5;124;43m'\u001b[39;49m\u001b[38;5;124;43mrb\u001b[39;49m\u001b[38;5;124;43m'\u001b[39;49m\u001b[43m)\u001b[49m \u001b[38;5;28;01mas\u001b[39;00m fsrc:\n\u001b[1;32m    255\u001b[0m         \u001b[38;5;28;01mtry\u001b[39;00m:\n\u001b[1;32m    256\u001b[0m             \u001b[38;5;28;01mwith\u001b[39;00m \u001b[38;5;28mopen\u001b[39m(dst, \u001b[38;5;124m'\u001b[39m\u001b[38;5;124mwb\u001b[39m\u001b[38;5;124m'\u001b[39m) \u001b[38;5;28;01mas\u001b[39;00m fdst:\n\u001b[1;32m    257\u001b[0m                 \u001b[38;5;66;03m# macOS\u001b[39;00m\n",
      "\u001b[0;31mFileNotFoundError\u001b[0m: [Errno 2] No such file or directory: 'correlation_matrix.csv'"
     ]
    }
   ],
   "source": [
    "%pip install mlflow\n",
    "\n",
    "import mlflow\n",
    "\n",
    "import mlflow.sklearn\n",
    "\n",
    "# Set the MLflow tracking URI\n",
    "mlflow.set_tracking_uri(\"your_tracking_uri\")\n",
    "\n",
    "# Start an MLflow run\n",
    "with mlflow.start_run():\n",
    "\n",
    "    # Log the parameters\n",
    "    mlflow.log_params({\"model\": \"DecisionTreeRegressor\"})\n",
    "\n",
    "    # Create and train the model\n",
    "    model = DecisionTreeRegressor(random_state=42)\n",
    "    model.fit(X_train, y_train)\n",
    "\n",
    "    # Log the model\n",
    "    mlflow.sklearn.log_model(model, \"decision_tree_model\")\n",
    "\n",
    "    # Make predictions\n",
    "    predictions = model.predict(X_test)\n",
    "\n",
    "    # Log the metrics\n",
    "    mse = mean_squared_error(y_test, predictions)\n",
    "    mlflow.log_metric(\"mse\", mse)\n",
    "\n",
    "    # Save the correlation matrix as an artifact\n",
    "    mlflow.log_artifact(\"correlation_matrix.csv\")\n",
    "\n",
    "    # End the MLflow run\n",
    "    mlflow.end_run()"
   ]
  },
  {
   "cell_type": "code",
   "execution_count": null,
   "metadata": {},
   "outputs": [],
   "source": [
    "from sklearn.ensemble import RandomForestClassifier\n",
    "from sklearn.metrics import accuracy_score\n",
    "from sklearn.model_selection import train_test_split, GridSearchCV\n",
    "import numpy as np\n",
    "\n",
    "# Supondo que X_train_val, X_test, y_train_val, y_test são seus conjuntos de dados\n",
    "\n",
    "# Definir o espaço de hiper-parâmetros\n",
    "param_grid = {\n",
    "    'n_estimators': [100, 200, 300],\n",
    "    'max_depth': [None, 10, 20],\n",
    "    'min_samples_split': [2, 5, 10]\n",
    "}\n",
    "\n",
    "# Configurar GridSearchCV\n",
    "clf = RandomForestClassifier()\n",
    "grid_search = GridSearchCV(clf, param_grid, cv=5, scoring='accuracy')\n",
    "\n",
    "# Ajustar ao conjunto de validação\n",
    "grid_search.fit(X_train_val, y_train_val)\n",
    "\n",
    "# Obter o melhor modelo\n",
    "best_model = grid_search.best_estimator_\n",
    "\n",
    "# Executar no conjunto de teste\n",
    "predictions = best_model.predict(X_test)\n",
    "\n",
    "# Avaliar o desempenho\n",
    "accuracy = accuracy_score(y_test, predictions)\n",
    "print(f'Acurácia: {accuracy}')\n",
    "\n",
    "# Repita os passos para outros algoritmos e compare os desempenhos"
   ]
  }
 ],
 "metadata": {
  "kernelspec": {
   "display_name": "Python 3",
   "language": "python",
   "name": "python3"
  },
  "language_info": {
   "codemirror_mode": {
    "name": "ipython",
    "version": 3
   },
   "file_extension": ".py",
   "mimetype": "text/x-python",
   "name": "python",
   "nbconvert_exporter": "python",
   "pygments_lexer": "ipython3",
   "version": "3.10.2"
  }
 },
 "nbformat": 4,
 "nbformat_minor": 2
}
